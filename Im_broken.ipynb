{
 "cells": [
  {
   "cell_type": "code",
   "execution_count": 1,
   "id": "536684e4-09e9-442e-8d65-0f5c7facf840",
   "metadata": {},
   "outputs": [],
   "source": [
    "import yfinance as yf\n",
    "import pandas as pd\n",
    "from datetime import datetime\n",
    "from datetime import timedelta\n",
    "from prophet import Prophet\n",
    "from pytrends.request import TrendReq\n",
    "import matplotlib.pyplot as plt\n",
    "import plotly.graph_objects as go\n",
    "from plotly.subplots import make_subplots\n",
    "import random"
   ]
  },
  {
   "cell_type": "code",
   "execution_count": 2,
   "id": "973f176a-0009-4403-bd99-a99dada06961",
   "metadata": {},
   "outputs": [
    {
     "name": "stdout",
     "output_type": "stream",
     "text": [
      "[*********************100%***********************]  11 of 11 completed\n",
      "                  ^AXDJ         ^AXEJ        ^AXFJ         ^AXHJ        ^AXIJ  \\\n",
      "Date                                                                            \n",
      "2018-07-02  2440.000000  11941.000000  6197.000000  30366.800781  1129.300049   \n",
      "2018-07-03  2463.500000  12052.200195  6253.700195  30708.099609  1133.400024   \n",
      "2018-07-04  2459.800049  12006.900391  6207.500000  30593.099609  1126.900024   \n",
      "2018-07-05  2459.199951  12048.400391  6269.700195  30726.400391  1122.900024   \n",
      "2018-07-06  2470.500000  12201.299805  6343.700195  30853.900391  1123.500000   \n",
      "...                 ...           ...          ...           ...          ...   \n",
      "2023-06-23  2863.100098  10614.900391  6085.200195  41490.500000  1750.300049   \n",
      "2023-06-26  2860.399902  10605.000000  6055.000000  41250.398438  1765.699951   \n",
      "2023-06-27  2861.000000  10627.500000  6094.700195  41200.898438  1759.199951   \n",
      "2023-06-28  2922.199951  10754.700195  6181.100098  41393.000000  1782.199951   \n",
      "2023-06-29  2935.500000  10787.700195  6213.899902  41418.398438  1814.400024   \n",
      "\n",
      "                   ^AXMJ        ^AXNJ        ^AXPJ         ^AXSJ        ^AXTJ  \\\n",
      "Date                                                                            \n",
      "2018-07-02  12204.500000  5900.799805  1415.800049  11216.900391   985.500000   \n",
      "2018-07-03  12029.900391  5966.700195  1423.099976  11345.700195  1006.599976   \n",
      "2018-07-04  12011.500000  5926.600098  1420.900024  11284.900391  1012.000000   \n",
      "2018-07-05  11984.099609  5979.000000  1423.800049  11333.099609  1029.199951   \n",
      "2018-07-06  12118.799805  6008.500000  1433.199951  11410.099609  1043.599976   \n",
      "...                  ...          ...          ...           ...          ...   \n",
      "2023-06-23  17855.300781  6708.200195  1320.000000  13311.700195  1526.900024   \n",
      "2023-06-26  17813.300781  6699.399902  1320.500000  13235.599609  1525.800049   \n",
      "2023-06-27  18020.199219  6695.299805  1346.300049  13274.700195  1515.900024   \n",
      "2023-06-28  18127.199219  6785.100098  1372.900024  13334.700195  1532.300049   \n",
      "2023-06-29  17990.699219  6765.399902  1359.400024  13344.400391  1535.900024   \n",
      "\n",
      "                  ^AXUJ  \n",
      "Date                     \n",
      "2018-07-02  8189.100098  \n",
      "2018-07-03  8294.200195  \n",
      "2018-07-04  8311.000000  \n",
      "2018-07-05  8437.599609  \n",
      "2018-07-06  8462.400391  \n",
      "...                 ...  \n",
      "2023-06-23  8899.599609  \n",
      "2023-06-26  8847.299805  \n",
      "2023-06-27  8835.900391  \n",
      "2023-06-28  8834.599609  \n",
      "2023-06-29  8721.299805  \n",
      "\n",
      "[1265 rows x 11 columns]\n"
     ]
    }
   ],
   "source": [
    "\n",
    "# List of sectors and their respective ticker symbols\n",
    "sectors = {\n",
    "    'Energy': '^AXEJ',\n",
    "    'Materials': '^AXMJ',\n",
    "    'Industrials': '^AXNJ',\n",
    "    'Consumer Discretionary': '^AXDJ',\n",
    "    'Consumer Staples': '^AXSJ',\n",
    "    'Health Care': '^AXHJ',\n",
    "    'Financials': '^AXFJ',\n",
    "    'Information Technology': '^AXIJ',\n",
    "    'Communication Services': '^AXTJ',\n",
    "    'Utilities': '^AXUJ',\n",
    "    'Real Estate': '^AXPJ'\n",
    "}\n",
    "\n",
    "# Define the date range\n",
    "end_date = \"2023-06-30\"  # Today's date\n",
    "start_date = (datetime.strptime(end_date, '%Y-%m-%d') - pd.DateOffset(years=5)).strftime('%Y-%m-%d')  # Date 5 years before the end_date\n",
    "\n",
    "# Download data for all tickers over the specified date range\n",
    "data = yf.download(list(sectors.values()), start=start_date, end=end_date)\n",
    "\n",
    "\n",
    "# Extract the 'Close' data for all tickers\n",
    "close_data = data['Close']\n",
    "\n",
    "\n",
    "# Display the closing prices\n",
    "print(close_data)\n"
   ]
  },
  {
   "cell_type": "code",
   "execution_count": 3,
   "id": "5cdfbb75-8f1f-4013-aefb-d386bb796e50",
   "metadata": {},
   "outputs": [
    {
     "data": {
      "text/plain": [
       "^AXEJ    0.903417\n",
       "^AXPJ    0.960164\n",
       "^AXFJ    1.002727\n",
       "^AXUJ    1.064989\n",
       "^AXNJ    1.146523\n",
       "^AXSJ    1.189669\n",
       "^AXDJ    1.203074\n",
       "^AXHJ    1.363937\n",
       "^AXMJ    1.474104\n",
       "^AXTJ    1.558498\n",
       "^AXIJ    1.606659\n",
       "Name: 2023-06-29 00:00:00, dtype: float64"
      ]
     },
     "execution_count": 3,
     "metadata": {},
     "output_type": "execute_result"
    }
   ],
   "source": [
    "daily_returns = close_data.pct_change()\n",
    "cumprod = (1+daily_returns).cumprod()\n",
    "final_df = cumprod.iloc[-1]\n",
    "final_df.sort_values()"
   ]
  },
  {
   "cell_type": "code",
   "execution_count": 4,
   "id": "1c90f24f-71b8-46c5-89af-f762698e61ca",
   "metadata": {},
   "outputs": [
    {
     "data": {
      "text/plain": [
       "array(['^AXHJ', '^AXMJ', '^AXTJ', '^AXIJ'], dtype=object)"
      ]
     },
     "execution_count": 4,
     "metadata": {},
     "output_type": "execute_result"
    }
   ],
   "source": [
    "investment_df = final_df.sort_values().iloc[-4:].index.values\n",
    "investment_df"
   ]
  },
  {
   "cell_type": "code",
   "execution_count": 5,
   "id": "a6f39f16-2b9f-47a3-a52e-ba5f4c498770",
   "metadata": {},
   "outputs": [],
   "source": [
    "weights = [.25, .25, .25, .25]\n",
    "initial_investment = 100000"
   ]
  },
  {
   "cell_type": "code",
   "execution_count": 6,
   "id": "0ccd35c1-c3ac-4389-88de-1e07e422304e",
   "metadata": {},
   "outputs": [
    {
     "data": {
      "text/html": [
       "<div>\n",
       "<style scoped>\n",
       "    .dataframe tbody tr th:only-of-type {\n",
       "        vertical-align: middle;\n",
       "    }\n",
       "\n",
       "    .dataframe tbody tr th {\n",
       "        vertical-align: top;\n",
       "    }\n",
       "\n",
       "    .dataframe thead th {\n",
       "        text-align: right;\n",
       "    }\n",
       "</style>\n",
       "<table border=\"1\" class=\"dataframe\">\n",
       "  <thead>\n",
       "    <tr style=\"text-align: right;\">\n",
       "      <th></th>\n",
       "      <th>^AXHJ</th>\n",
       "      <th>^AXMJ</th>\n",
       "      <th>^AXTJ</th>\n",
       "      <th>^AXIJ</th>\n",
       "    </tr>\n",
       "    <tr>\n",
       "      <th>Date</th>\n",
       "      <th></th>\n",
       "      <th></th>\n",
       "      <th></th>\n",
       "      <th></th>\n",
       "    </tr>\n",
       "  </thead>\n",
       "  <tbody>\n",
       "    <tr>\n",
       "      <th>2018-07-03</th>\n",
       "      <td>0.011239</td>\n",
       "      <td>-0.014306</td>\n",
       "      <td>0.021410</td>\n",
       "      <td>0.003631</td>\n",
       "    </tr>\n",
       "    <tr>\n",
       "      <th>2018-07-04</th>\n",
       "      <td>-0.003745</td>\n",
       "      <td>-0.001530</td>\n",
       "      <td>0.005365</td>\n",
       "      <td>-0.005735</td>\n",
       "    </tr>\n",
       "    <tr>\n",
       "      <th>2018-07-05</th>\n",
       "      <td>0.004357</td>\n",
       "      <td>-0.002281</td>\n",
       "      <td>0.016996</td>\n",
       "      <td>-0.003550</td>\n",
       "    </tr>\n",
       "    <tr>\n",
       "      <th>2018-07-06</th>\n",
       "      <td>0.004150</td>\n",
       "      <td>0.011240</td>\n",
       "      <td>0.013991</td>\n",
       "      <td>0.000534</td>\n",
       "    </tr>\n",
       "    <tr>\n",
       "      <th>2018-07-09</th>\n",
       "      <td>-0.004369</td>\n",
       "      <td>0.010983</td>\n",
       "      <td>0.002396</td>\n",
       "      <td>-0.000534</td>\n",
       "    </tr>\n",
       "    <tr>\n",
       "      <th>...</th>\n",
       "      <td>...</td>\n",
       "      <td>...</td>\n",
       "      <td>...</td>\n",
       "      <td>...</td>\n",
       "    </tr>\n",
       "    <tr>\n",
       "      <th>2023-06-23</th>\n",
       "      <td>-0.006572</td>\n",
       "      <td>-0.012363</td>\n",
       "      <td>-0.004174</td>\n",
       "      <td>-0.011911</td>\n",
       "    </tr>\n",
       "    <tr>\n",
       "      <th>2023-06-26</th>\n",
       "      <td>-0.005787</td>\n",
       "      <td>-0.002352</td>\n",
       "      <td>-0.000720</td>\n",
       "      <td>0.008798</td>\n",
       "    </tr>\n",
       "    <tr>\n",
       "      <th>2023-06-27</th>\n",
       "      <td>-0.001200</td>\n",
       "      <td>0.011615</td>\n",
       "      <td>-0.006488</td>\n",
       "      <td>-0.003681</td>\n",
       "    </tr>\n",
       "    <tr>\n",
       "      <th>2023-06-28</th>\n",
       "      <td>0.004663</td>\n",
       "      <td>0.005938</td>\n",
       "      <td>0.010819</td>\n",
       "      <td>0.013074</td>\n",
       "    </tr>\n",
       "    <tr>\n",
       "      <th>2023-06-29</th>\n",
       "      <td>0.000614</td>\n",
       "      <td>-0.007530</td>\n",
       "      <td>0.002349</td>\n",
       "      <td>0.018068</td>\n",
       "    </tr>\n",
       "  </tbody>\n",
       "</table>\n",
       "<p>1264 rows × 4 columns</p>\n",
       "</div>"
      ],
      "text/plain": [
       "               ^AXHJ     ^AXMJ     ^AXTJ     ^AXIJ\n",
       "Date                                              \n",
       "2018-07-03  0.011239 -0.014306  0.021410  0.003631\n",
       "2018-07-04 -0.003745 -0.001530  0.005365 -0.005735\n",
       "2018-07-05  0.004357 -0.002281  0.016996 -0.003550\n",
       "2018-07-06  0.004150  0.011240  0.013991  0.000534\n",
       "2018-07-09 -0.004369  0.010983  0.002396 -0.000534\n",
       "...              ...       ...       ...       ...\n",
       "2023-06-23 -0.006572 -0.012363 -0.004174 -0.011911\n",
       "2023-06-26 -0.005787 -0.002352 -0.000720  0.008798\n",
       "2023-06-27 -0.001200  0.011615 -0.006488 -0.003681\n",
       "2023-06-28  0.004663  0.005938  0.010819  0.013074\n",
       "2023-06-29  0.000614 -0.007530  0.002349  0.018068\n",
       "\n",
       "[1264 rows x 4 columns]"
      ]
     },
     "execution_count": 6,
     "metadata": {},
     "output_type": "execute_result"
    }
   ],
   "source": [
    "final_returns_df = daily_returns[investment_df].dropna()\n",
    "final_returns_df"
   ]
  },
  {
   "cell_type": "code",
   "execution_count": 7,
   "id": "a0c9acb7-9ce3-4044-8812-f78e4af5e039",
   "metadata": {},
   "outputs": [
    {
     "data": {
      "text/plain": [
       "Date\n",
       "2018-07-03    0.005494\n",
       "2018-07-04   -0.001411\n",
       "2018-07-05    0.003881\n",
       "2018-07-06    0.007479\n",
       "2018-07-09    0.002119\n",
       "                ...   \n",
       "2023-06-23   -0.008755\n",
       "2023-06-26   -0.000015\n",
       "2023-06-27    0.000061\n",
       "2023-06-28    0.008623\n",
       "2023-06-29    0.003375\n",
       "Length: 1264, dtype: float64"
      ]
     },
     "execution_count": 7,
     "metadata": {},
     "output_type": "execute_result"
    }
   ],
   "source": [
    "final_portfolio = final_returns_df.dot(weights)\n",
    "final_portfolio"
   ]
  },
  {
   "cell_type": "code",
   "execution_count": 8,
   "id": "c2f503e9-1463-4846-a131-7491ed858158",
   "metadata": {},
   "outputs": [
    {
     "data": {
      "text/html": [
       "<div>\n",
       "<style scoped>\n",
       "    .dataframe tbody tr th:only-of-type {\n",
       "        vertical-align: middle;\n",
       "    }\n",
       "\n",
       "    .dataframe tbody tr th {\n",
       "        vertical-align: top;\n",
       "    }\n",
       "\n",
       "    .dataframe thead th {\n",
       "        text-align: right;\n",
       "    }\n",
       "</style>\n",
       "<table border=\"1\" class=\"dataframe\">\n",
       "  <thead>\n",
       "    <tr style=\"text-align: right;\">\n",
       "      <th></th>\n",
       "      <th>Date</th>\n",
       "      <th>0</th>\n",
       "    </tr>\n",
       "  </thead>\n",
       "  <tbody>\n",
       "    <tr>\n",
       "      <th>0</th>\n",
       "      <td>2018-07-03</td>\n",
       "      <td>0.005494</td>\n",
       "    </tr>\n",
       "    <tr>\n",
       "      <th>1</th>\n",
       "      <td>2018-07-04</td>\n",
       "      <td>-0.001411</td>\n",
       "    </tr>\n",
       "    <tr>\n",
       "      <th>2</th>\n",
       "      <td>2018-07-05</td>\n",
       "      <td>0.003881</td>\n",
       "    </tr>\n",
       "    <tr>\n",
       "      <th>3</th>\n",
       "      <td>2018-07-06</td>\n",
       "      <td>0.007479</td>\n",
       "    </tr>\n",
       "    <tr>\n",
       "      <th>4</th>\n",
       "      <td>2018-07-09</td>\n",
       "      <td>0.002119</td>\n",
       "    </tr>\n",
       "    <tr>\n",
       "      <th>...</th>\n",
       "      <td>...</td>\n",
       "      <td>...</td>\n",
       "    </tr>\n",
       "    <tr>\n",
       "      <th>1259</th>\n",
       "      <td>2023-06-23</td>\n",
       "      <td>-0.008755</td>\n",
       "    </tr>\n",
       "    <tr>\n",
       "      <th>1260</th>\n",
       "      <td>2023-06-26</td>\n",
       "      <td>-0.000015</td>\n",
       "    </tr>\n",
       "    <tr>\n",
       "      <th>1261</th>\n",
       "      <td>2023-06-27</td>\n",
       "      <td>0.000061</td>\n",
       "    </tr>\n",
       "    <tr>\n",
       "      <th>1262</th>\n",
       "      <td>2023-06-28</td>\n",
       "      <td>0.008623</td>\n",
       "    </tr>\n",
       "    <tr>\n",
       "      <th>1263</th>\n",
       "      <td>2023-06-29</td>\n",
       "      <td>0.003375</td>\n",
       "    </tr>\n",
       "  </tbody>\n",
       "</table>\n",
       "<p>1264 rows × 2 columns</p>\n",
       "</div>"
      ],
      "text/plain": [
       "           Date         0\n",
       "0    2018-07-03  0.005494\n",
       "1    2018-07-04 -0.001411\n",
       "2    2018-07-05  0.003881\n",
       "3    2018-07-06  0.007479\n",
       "4    2018-07-09  0.002119\n",
       "...         ...       ...\n",
       "1259 2023-06-23 -0.008755\n",
       "1260 2023-06-26 -0.000015\n",
       "1261 2023-06-27  0.000061\n",
       "1262 2023-06-28  0.008623\n",
       "1263 2023-06-29  0.003375\n",
       "\n",
       "[1264 rows x 2 columns]"
      ]
     },
     "execution_count": 8,
     "metadata": {},
     "output_type": "execute_result"
    }
   ],
   "source": [
    "#Reset the index in final portfolio\n",
    "final_portfolio_df = final_portfolio.reset_index()\n",
    "final_portfolio_df"
   ]
  },
  {
   "cell_type": "code",
   "execution_count": 9,
   "id": "76f535d1-d15b-461a-a6c5-aeab6d9f5d3f",
   "metadata": {},
   "outputs": [
    {
     "data": {
      "text/html": [
       "<div>\n",
       "<style scoped>\n",
       "    .dataframe tbody tr th:only-of-type {\n",
       "        vertical-align: middle;\n",
       "    }\n",
       "\n",
       "    .dataframe tbody tr th {\n",
       "        vertical-align: top;\n",
       "    }\n",
       "\n",
       "    .dataframe thead th {\n",
       "        text-align: right;\n",
       "    }\n",
       "</style>\n",
       "<table border=\"1\" class=\"dataframe\">\n",
       "  <thead>\n",
       "    <tr style=\"text-align: right;\">\n",
       "      <th></th>\n",
       "      <th>ds</th>\n",
       "      <th>y</th>\n",
       "    </tr>\n",
       "  </thead>\n",
       "  <tbody>\n",
       "    <tr>\n",
       "      <th>0</th>\n",
       "      <td>2018-07-03</td>\n",
       "      <td>0.005494</td>\n",
       "    </tr>\n",
       "    <tr>\n",
       "      <th>1</th>\n",
       "      <td>2018-07-04</td>\n",
       "      <td>-0.001411</td>\n",
       "    </tr>\n",
       "    <tr>\n",
       "      <th>2</th>\n",
       "      <td>2018-07-05</td>\n",
       "      <td>0.003881</td>\n",
       "    </tr>\n",
       "    <tr>\n",
       "      <th>3</th>\n",
       "      <td>2018-07-06</td>\n",
       "      <td>0.007479</td>\n",
       "    </tr>\n",
       "    <tr>\n",
       "      <th>4</th>\n",
       "      <td>2018-07-09</td>\n",
       "      <td>0.002119</td>\n",
       "    </tr>\n",
       "    <tr>\n",
       "      <th>...</th>\n",
       "      <td>...</td>\n",
       "      <td>...</td>\n",
       "    </tr>\n",
       "    <tr>\n",
       "      <th>1259</th>\n",
       "      <td>2023-06-23</td>\n",
       "      <td>-0.008755</td>\n",
       "    </tr>\n",
       "    <tr>\n",
       "      <th>1260</th>\n",
       "      <td>2023-06-26</td>\n",
       "      <td>-0.000015</td>\n",
       "    </tr>\n",
       "    <tr>\n",
       "      <th>1261</th>\n",
       "      <td>2023-06-27</td>\n",
       "      <td>0.000061</td>\n",
       "    </tr>\n",
       "    <tr>\n",
       "      <th>1262</th>\n",
       "      <td>2023-06-28</td>\n",
       "      <td>0.008623</td>\n",
       "    </tr>\n",
       "    <tr>\n",
       "      <th>1263</th>\n",
       "      <td>2023-06-29</td>\n",
       "      <td>0.003375</td>\n",
       "    </tr>\n",
       "  </tbody>\n",
       "</table>\n",
       "<p>1264 rows × 2 columns</p>\n",
       "</div>"
      ],
      "text/plain": [
       "             ds         y\n",
       "0    2018-07-03  0.005494\n",
       "1    2018-07-04 -0.001411\n",
       "2    2018-07-05  0.003881\n",
       "3    2018-07-06  0.007479\n",
       "4    2018-07-09  0.002119\n",
       "...         ...       ...\n",
       "1259 2023-06-23 -0.008755\n",
       "1260 2023-06-26 -0.000015\n",
       "1261 2023-06-27  0.000061\n",
       "1262 2023-06-28  0.008623\n",
       "1263 2023-06-29  0.003375\n",
       "\n",
       "[1264 rows x 2 columns]"
      ]
     },
     "execution_count": 9,
     "metadata": {},
     "output_type": "execute_result"
    }
   ],
   "source": [
    "# Rename the columns to accommodate prophet\n",
    "final_portfolio_df.columns = ['ds','y']\n",
    "final_portfolio_df"
   ]
  },
  {
   "cell_type": "code",
   "execution_count": 10,
   "id": "ce8b0977-6706-4b2e-85de-2f5ac6513cbd",
   "metadata": {},
   "outputs": [],
   "source": [
    "# establishing frequency of shocks\n",
    "events = pd.DataFrame({\n",
    "    'holiday': 'event_name',\n",
    "    'ds':pd.to_datetime(['2020-03-11', '2022-02-24']),   #Dates of shocks\n",
    "    'lower_window': 0,\n",
    "    'upper_window': 1,\n",
    "})"
   ]
  },
  {
   "cell_type": "code",
   "execution_count": 11,
   "id": "dad448d9-29f6-4504-af12-ee2a6d974439",
   "metadata": {},
   "outputs": [
    {
     "name": "stderr",
     "output_type": "stream",
     "text": [
      "INFO:prophet:Disabling daily seasonality. Run prophet with daily_seasonality=True to override this.\n"
     ]
    },
    {
     "name": "stdout",
     "output_type": "stream",
     "text": [
      "Initial log joint probability = -18.8031\n"
     ]
    },
    {
     "data": {
      "text/plain": [
       "<prophet.forecaster.Prophet at 0x179d44820>"
      ]
     },
     "execution_count": 11,
     "metadata": {},
     "output_type": "execute_result"
    },
    {
     "name": "stdout",
     "output_type": "stream",
     "text": [
      "    Iter      log prob        ||dx||      ||grad||       alpha      alpha0  # evals  Notes \n",
      "      99       1751.91   1.81718e-06       88.0309      0.2351      0.2351      121   \n",
      "    Iter      log prob        ||dx||      ||grad||       alpha      alpha0  # evals  Notes \n",
      "     151       1751.99   6.82909e-05       77.2663   1.013e-06       0.001      230  LS failed, Hessian reset \n",
      "     199       1752.08   6.10873e-07       101.221        0.14        0.14      285   \n",
      "    Iter      log prob        ||dx||      ||grad||       alpha      alpha0  # evals  Notes \n",
      "     220       1752.08   5.89109e-08       93.8861      0.3039           1      310   \n",
      "Optimization terminated normally: \n",
      "  Convergence detected: relative gradient magnitude is below tolerance\n"
     ]
    }
   ],
   "source": [
    "model = Prophet(holidays=events)\n",
    "model.fit(final_portfolio_df)"
   ]
  },
  {
   "cell_type": "code",
   "execution_count": 12,
   "id": "5e2de925-b15f-4413-89bd-0652e32b3b03",
   "metadata": {},
   "outputs": [],
   "source": [
    "future = model.make_future_dataframe(periods=365)  # for a year into the future\n",
    "forecast = model.predict(future)\n"
   ]
  },
  {
   "cell_type": "code",
   "execution_count": 13,
   "id": "682d6cd6-2ae9-4630-9812-2219231f5c7b",
   "metadata": {},
   "outputs": [
    {
     "name": "stderr",
     "output_type": "stream",
     "text": [
      "WARNING:matplotlib.legend:No artists with labels found to put in legend.  Note that artists whose label start with an underscore are ignored when legend() is called with no argument.\n"
     ]
    },
    {
     "data": {
      "image/png": "[encoded data removed]",
      "text/plain": [
       "<Figure size 1000x600 with 1 Axes>"
      ]
     },
     "metadata": {},
     "output_type": "display_data"
    }
   ],
   "source": [
    "fig1 = (model.plot(forecast),\n",
    "    plt.legend(),\n",
    "    plt.title(\"Cumulative Returns Forecast for adjusted Sector\"),\n",
    "    plt.xlabel(\"Date\"),\n",
    "    plt.ylabel(\"Cumulative Returns\")\n",
    "       )"
   ]
  },
  {
   "cell_type": "code",
   "execution_count": 43,
   "id": "c0944258-ba74-4aca-824f-b65efd2e0e5d",
   "metadata": {},
   "outputs": [
    {
     "data": {
      "text/plain": [
       "<Figure size 1000x600 with 0 Axes>"
      ]
     },
     "metadata": {},
     "output_type": "display_data"
    },
    {
     "data": {
      "image/png": "[encoded data removed]",
      "text/plain": [
       "<Figure size 640x480 with 1 Axes>"
      ]
     },
     "metadata": {},
     "output_type": "display_data"
    }
   ],
   "source": [
    "\n",
    "\n",
    "# Set up pytrends\n",
    "pytrends = TrendReq(hl=\"en-US\", tz=360)\n",
    "\n",
    "# Keywords to track\n",
    "keywords = [\"COVID\"]\n",
    "\n",
    "# Build the payload\n",
    "pytrends.build_payload(keywords, timeframe=\"2018-07-01 2023-06-30\", geo=\"\")\n",
    "\n",
    "# Get interest over time data\n",
    "interest_over_time_df = pytrends.interest_over_time()\n",
    "\n",
    "# Plot the data\n",
    "sentiment_plot = (plt.figure(figsize=(10, 6)),\n",
    "    interest_over_time_df.plot(),\n",
    "    plt.title(\"Interest Over Time for Keywords\"),\n",
    "    plt.xlabel(\"Date\"),\n",
    "    plt.ylabel(\"Interest\"),\n",
    ")\n"
   ]
  },
  {
   "cell_type": "code",
   "execution_count": 44,
   "id": "530d87e9-846d-4f5d-8d34-5fea924e1983",
   "metadata": {},
   "outputs": [
    {
     "name": "stdout",
     "output_type": "stream",
     "text": [
      "            COVID  isPartial\n",
      "date                        \n",
      "2018-07-01      0      False\n",
      "2018-07-08      0      False\n",
      "2018-07-15      0      False\n",
      "2018-07-22      0      False\n",
      "2018-07-29      0      False\n",
      "...           ...        ...\n",
      "2023-05-28      4      False\n",
      "2023-06-04      3      False\n",
      "2023-06-11      3      False\n",
      "2023-06-18      3      False\n",
      "2023-06-25      3      False\n",
      "\n",
      "[261 rows x 2 columns]\n"
     ]
    }
   ],
   "source": [
    "print(interest_over_time_df)"
   ]
  },
  {
   "cell_type": "code",
   "execution_count": 45,
   "id": "23ed2e2a-5ac7-4509-8ec3-fffa981c2b12",
   "metadata": {},
   "outputs": [
    {
     "name": "stdout",
     "output_type": "stream",
     "text": [
      "Date\n",
      "2018-07-08    0.003860\n",
      "2018-07-15    0.001417\n",
      "2018-07-22    0.001052\n",
      "2018-07-29   -0.000240\n",
      "2018-08-05   -0.001245\n",
      "                ...   \n",
      "2023-06-04    0.001815\n",
      "2023-06-11   -0.001981\n",
      "2023-06-18    0.002279\n",
      "2023-06-25   -0.004668\n",
      "2023-07-02    0.003011\n",
      "Freq: W-SUN, Length: 261, dtype: float64\n"
     ]
    }
   ],
   "source": [
    "# Resample daily data into weekly frequency and calculate the mean\n",
    "weekly_average = final_portfolio.resample('W').mean()\n",
    "print(weekly_average)"
   ]
  },
  {
   "cell_type": "code",
   "execution_count": 46,
   "id": "661f0f09-08c8-4a3b-b415-556584135c36",
   "metadata": {},
   "outputs": [
    {
     "data": {
      "text/html": [
       "<div>\n",
       "<style scoped>\n",
       "    .dataframe tbody tr th:only-of-type {\n",
       "        vertical-align: middle;\n",
       "    }\n",
       "\n",
       "    .dataframe tbody tr th {\n",
       "        vertical-align: top;\n",
       "    }\n",
       "\n",
       "    .dataframe thead th {\n",
       "        text-align: right;\n",
       "    }\n",
       "</style>\n",
       "<table border=\"1\" class=\"dataframe\">\n",
       "  <thead>\n",
       "    <tr style=\"text-align: right;\">\n",
       "      <th></th>\n",
       "      <th>COVID</th>\n",
       "      <th>isPartial</th>\n",
       "    </tr>\n",
       "    <tr>\n",
       "      <th>date</th>\n",
       "      <th></th>\n",
       "      <th></th>\n",
       "    </tr>\n",
       "  </thead>\n",
       "  <tbody>\n",
       "  </tbody>\n",
       "</table>\n",
       "</div>"
      ],
      "text/plain": [
       "Empty DataFrame\n",
       "Columns: [COVID, isPartial]\n",
       "Index: []"
      ]
     },
     "execution_count": 46,
     "metadata": {},
     "output_type": "execute_result"
    }
   ],
   "source": [
    "##replacing zeroes to negative infinity and beyond\n",
    "interest_over_time_df[\"COVID\"] = interest_over_time_df[\"COVID\"].replace(0, 1)\n",
    "interest_over_time_df\n",
    "\n",
    "interest_over_time_df[interest_over_time_df[\"COVID\"] == 0]\n",
    "\n"
   ]
  },
  {
   "cell_type": "code",
   "execution_count": 47,
   "id": "3e6c6adc-e1e8-4223-a272-61bb9eeeb6f8",
   "metadata": {},
   "outputs": [
    {
     "data": {
      "text/plain": [
       "date\n",
       "2018-07-01     NaN\n",
       "2018-07-08    0.00\n",
       "2018-07-15    0.00\n",
       "2018-07-22    0.00\n",
       "2018-07-29    0.00\n",
       "              ... \n",
       "2023-05-28    0.00\n",
       "2023-06-04   -0.25\n",
       "2023-06-11    0.00\n",
       "2023-06-18    0.00\n",
       "2023-06-25    0.00\n",
       "Name: COVID, Length: 261, dtype: float64"
      ]
     },
     "execution_count": 47,
     "metadata": {},
     "output_type": "execute_result"
    }
   ],
   "source": [
    "\n",
    "covid_sentiment_change = interest_over_time_df[\"COVID\"].pct_change()\n",
    "covid_sentiment_change"
   ]
  },
  {
   "cell_type": "code",
   "execution_count": 48,
   "id": "def9f55c-b018-4fa0-884f-6717cce41b21",
   "metadata": {},
   "outputs": [
    {
     "data": {
      "text/plain": [
       "date\n",
       "2018-07-08    0.00\n",
       "2018-07-15    0.00\n",
       "2018-07-22    0.00\n",
       "2018-07-29    0.00\n",
       "2018-08-05    0.00\n",
       "              ... \n",
       "2023-05-28    0.00\n",
       "2023-06-04   -0.25\n",
       "2023-06-11    0.00\n",
       "2023-06-18    0.00\n",
       "2023-06-25    0.00\n",
       "Name: COVID, Length: 260, dtype: float64"
      ]
     },
     "execution_count": 48,
     "metadata": {},
     "output_type": "execute_result"
    }
   ],
   "source": [
    "covid_sentiment_change_drop = covid_sentiment_change.dropna()\n",
    "covid_sentiment_change_drop\n"
   ]
  },
  {
   "cell_type": "code",
   "execution_count": 49,
   "id": "264787f7-3305-447d-8252-f6ef6decd97a",
   "metadata": {},
   "outputs": [
    {
     "data": {
      "text/html": [
       "<div>\n",
       "<style scoped>\n",
       "    .dataframe tbody tr th:only-of-type {\n",
       "        vertical-align: middle;\n",
       "    }\n",
       "\n",
       "    .dataframe tbody tr th {\n",
       "        vertical-align: top;\n",
       "    }\n",
       "\n",
       "    .dataframe thead th {\n",
       "        text-align: right;\n",
       "    }\n",
       "</style>\n",
       "<table border=\"1\" class=\"dataframe\">\n",
       "  <thead>\n",
       "    <tr style=\"text-align: right;\">\n",
       "      <th></th>\n",
       "      <th>index</th>\n",
       "      <th>0</th>\n",
       "      <th>COVID</th>\n",
       "    </tr>\n",
       "  </thead>\n",
       "  <tbody>\n",
       "    <tr>\n",
       "      <th>0</th>\n",
       "      <td>2018-07-08</td>\n",
       "      <td>0.003860</td>\n",
       "      <td>0.00</td>\n",
       "    </tr>\n",
       "    <tr>\n",
       "      <th>1</th>\n",
       "      <td>2018-07-15</td>\n",
       "      <td>0.001417</td>\n",
       "      <td>0.00</td>\n",
       "    </tr>\n",
       "    <tr>\n",
       "      <th>2</th>\n",
       "      <td>2018-07-22</td>\n",
       "      <td>0.001052</td>\n",
       "      <td>0.00</td>\n",
       "    </tr>\n",
       "    <tr>\n",
       "      <th>3</th>\n",
       "      <td>2018-07-29</td>\n",
       "      <td>-0.000240</td>\n",
       "      <td>0.00</td>\n",
       "    </tr>\n",
       "    <tr>\n",
       "      <th>4</th>\n",
       "      <td>2018-08-05</td>\n",
       "      <td>-0.001245</td>\n",
       "      <td>0.00</td>\n",
       "    </tr>\n",
       "    <tr>\n",
       "      <th>...</th>\n",
       "      <td>...</td>\n",
       "      <td>...</td>\n",
       "      <td>...</td>\n",
       "    </tr>\n",
       "    <tr>\n",
       "      <th>255</th>\n",
       "      <td>2023-05-28</td>\n",
       "      <td>-0.000309</td>\n",
       "      <td>0.00</td>\n",
       "    </tr>\n",
       "    <tr>\n",
       "      <th>256</th>\n",
       "      <td>2023-06-04</td>\n",
       "      <td>0.001815</td>\n",
       "      <td>-0.25</td>\n",
       "    </tr>\n",
       "    <tr>\n",
       "      <th>257</th>\n",
       "      <td>2023-06-11</td>\n",
       "      <td>-0.001981</td>\n",
       "      <td>0.00</td>\n",
       "    </tr>\n",
       "    <tr>\n",
       "      <th>258</th>\n",
       "      <td>2023-06-18</td>\n",
       "      <td>0.002279</td>\n",
       "      <td>0.00</td>\n",
       "    </tr>\n",
       "    <tr>\n",
       "      <th>259</th>\n",
       "      <td>2023-06-25</td>\n",
       "      <td>-0.004668</td>\n",
       "      <td>0.00</td>\n",
       "    </tr>\n",
       "  </tbody>\n",
       "</table>\n",
       "<p>260 rows × 3 columns</p>\n",
       "</div>"
      ],
      "text/plain": [
       "         index         0  COVID\n",
       "0   2018-07-08  0.003860   0.00\n",
       "1   2018-07-15  0.001417   0.00\n",
       "2   2018-07-22  0.001052   0.00\n",
       "3   2018-07-29 -0.000240   0.00\n",
       "4   2018-08-05 -0.001245   0.00\n",
       "..         ...       ...    ...\n",
       "255 2023-05-28 -0.000309   0.00\n",
       "256 2023-06-04  0.001815  -0.25\n",
       "257 2023-06-11 -0.001981   0.00\n",
       "258 2023-06-18  0.002279   0.00\n",
       "259 2023-06-25 -0.004668   0.00\n",
       "\n",
       "[260 rows x 3 columns]"
      ]
     },
     "execution_count": 49,
     "metadata": {},
     "output_type": "execute_result"
    }
   ],
   "source": [
    "combined_data = pd.concat([weekly_average, covid_sentiment_change_drop], axis=1)\n",
    "combined_data = combined_data.dropna()\n",
    "combined_data.reset_index(inplace=True)\n",
    "combined_data"
   ]
  },
  {
   "cell_type": "code",
   "execution_count": 50,
   "id": "542c76b2-7854-4385-bce0-2cee012726bc",
   "metadata": {},
   "outputs": [
    {
     "data": {
      "text/plain": [
       "<Axes: >"
      ]
     },
     "execution_count": 50,
     "metadata": {},
     "output_type": "execute_result"
    },
    {
     "data": {
      "image/png": "[encoded data removed]",
      "text/plain": [
       "<Figure size 640x480 with 1 Axes>"
      ]
     },
     "metadata": {},
     "output_type": "display_data"
    }
   ],
   "source": [
    "combined_data.plot()"
   ]
  },
  {
   "cell_type": "code",
   "execution_count": 51,
   "id": "df2b97e0-a3da-44c8-8dd7-4215df23b816",
   "metadata": {},
   "outputs": [
    {
     "name": "stdout",
     "output_type": "stream",
     "text": [
      "-0.23879438374074113\n"
     ]
    }
   ],
   "source": [
    "correlation = combined_data [0].corr(combined_data['COVID'])\n",
    "print(correlation)"
   ]
  },
  {
   "cell_type": "code",
   "execution_count": 52,
   "id": "01482c86-0507-4870-8538-aae5f4c03c9f",
   "metadata": {},
   "outputs": [
    {
     "data": {
      "application/vnd.plotly.v1+json": {
       "config": {
        "plotlyServerURL": "https://plot.ly"
       },
       "data": [
        {
         "name": "COVID",
         "type": "bar",
         "x": [
          "2018-07-08T00:00:00",
          "2018-07-15T00:00:00",
          "2018-07-22T00:00:00",
          "2018-07-29T00:00:00",
          "2018-08-05T00:00:00",
          "2018-08-12T00:00:00",
          "2018-08-19T00:00:00",
          "2018-08-26T00:00:00",
          "2018-09-02T00:00:00",
          "2018-09-09T00:00:00",
          "2018-09-16T00:00:00",
          "2018-09-23T00:00:00",
          "2018-09-30T00:00:00",
          "2018-10-07T00:00:00",
          "2018-10-14T00:00:00",
          "2018-10-21T00:00:00",
          "2018-10-28T00:00:00",
          "2018-11-04T00:00:00",
          "2018-11-11T00:00:00",
          "2018-11-18T00:00:00",
          "2018-11-25T00:00:00",
          "2018-12-02T00:00:00",
          "2018-12-09T00:00:00",
          "2018-12-16T00:00:00",
          "2018-12-23T00:00:00",
          "2018-12-30T00:00:00",
          "2019-01-06T00:00:00",
          "2019-01-13T00:00:00",
          "2019-01-20T00:00:00",
          "2019-01-27T00:00:00",
          "2019-02-03T00:00:00",
          "2019-02-10T00:00:00",
          "2019-02-17T00:00:00",
          "2019-02-24T00:00:00",
          "2019-03-03T00:00:00",
          "2019-03-10T00:00:00",
          "2019-03-17T00:00:00",
          "2019-03-24T00:00:00",
          "2019-03-31T00:00:00",
          "2019-04-07T00:00:00",
          "2019-04-14T00:00:00",
          "2019-04-21T00:00:00",
          "2019-04-28T00:00:00",
          "2019-05-05T00:00:00",
          "2019-05-12T00:00:00",
          "2019-05-19T00:00:00",
          "2019-05-26T00:00:00",
          "2019-06-02T00:00:00",
          "2019-06-09T00:00:00",
          "2019-06-16T00:00:00",
          "2019-06-23T00:00:00",
          "2019-06-30T00:00:00",
          "2019-07-07T00:00:00",
          "2019-07-14T00:00:00",
          "2019-07-21T00:00:00",
          "2019-07-28T00:00:00",
          "2019-08-04T00:00:00",
          "2019-08-11T00:00:00",
          "2019-08-18T00:00:00",
          "2019-08-25T00:00:00",
          "2019-09-01T00:00:00",
          "2019-09-08T00:00:00",
          "2019-09-15T00:00:00",
          "2019-09-22T00:00:00",
          "2019-09-29T00:00:00",
          "2019-10-06T00:00:00",
          "2019-10-13T00:00:00",
          "2019-10-20T00:00:00",
          "2019-10-27T00:00:00",
          "2019-11-03T00:00:00",
          "2019-11-10T00:00:00",
          "2019-11-17T00:00:00",
          "2019-11-24T00:00:00",
          "2019-12-01T00:00:00",
          "2019-12-08T00:00:00",
          "2019-12-15T00:00:00",
          "2019-12-22T00:00:00",
          "2019-12-29T00:00:00",
          "2020-01-05T00:00:00",
          "2020-01-12T00:00:00",
          "2020-01-19T00:00:00",
          "2020-01-26T00:00:00",
          "2020-02-02T00:00:00",
          "2020-02-09T00:00:00",
          "2020-02-16T00:00:00",
          "2020-02-23T00:00:00",
          "2020-03-01T00:00:00",
          "2020-03-08T00:00:00",
          "2020-03-15T00:00:00",
          "2020-03-22T00:00:00",
          "2020-03-29T00:00:00",
          "2020-04-05T00:00:00",
          "2020-04-12T00:00:00",
          "2020-04-19T00:00:00",
          "2020-04-26T00:00:00",
          "2020-05-03T00:00:00",
          "2020-05-10T00:00:00",
          "2020-05-17T00:00:00",
          "2020-05-24T00:00:00",
          "2020-05-31T00:00:00",
          "2020-06-07T00:00:00",
          "2020-06-14T00:00:00",
          "2020-06-21T00:00:00",
          "2020-06-28T00:00:00",
          "2020-07-05T00:00:00",
          "2020-07-12T00:00:00",
          "2020-07-19T00:00:00",
          "2020-07-26T00:00:00",
          "2020-08-02T00:00:00",
          "2020-08-09T00:00:00",
          "2020-08-16T00:00:00",
          "2020-08-23T00:00:00",
          "2020-08-30T00:00:00",
          "2020-09-06T00:00:00",
          "2020-09-13T00:00:00",
          "2020-09-20T00:00:00",
          "2020-09-27T00:00:00",
          "2020-10-04T00:00:00",
          "2020-10-11T00:00:00",
          "2020-10-18T00:00:00",
          "2020-10-25T00:00:00",
          "2020-11-01T00:00:00",
          "2020-11-08T00:00:00",
          "2020-11-15T00:00:00",
          "2020-11-22T00:00:00",
          "2020-11-29T00:00:00",
          "2020-12-06T00:00:00",
          "2020-12-13T00:00:00",
          "2020-12-20T00:00:00",
          "2020-12-27T00:00:00",
          "2021-01-03T00:00:00",
          "2021-01-10T00:00:00",
          "2021-01-17T00:00:00",
          "2021-01-24T00:00:00",
          "2021-01-31T00:00:00",
          "2021-02-07T00:00:00",
          "2021-02-14T00:00:00",
          "2021-02-21T00:00:00",
          "2021-02-28T00:00:00",
          "2021-03-07T00:00:00",
          "2021-03-14T00:00:00",
          "2021-03-21T00:00:00",
          "2021-03-28T00:00:00",
          "2021-04-04T00:00:00",
          "2021-04-11T00:00:00",
          "2021-04-18T00:00:00",
          "2021-04-25T00:00:00",
          "2021-05-02T00:00:00",
          "2021-05-09T00:00:00",
          "2021-05-16T00:00:00",
          "2021-05-23T00:00:00",
          "2021-05-30T00:00:00",
          "2021-06-06T00:00:00",
          "2021-06-13T00:00:00",
          "2021-06-20T00:00:00",
          "2021-06-27T00:00:00",
          "2021-07-04T00:00:00",
          "2021-07-11T00:00:00",
          "2021-07-18T00:00:00",
          "2021-07-25T00:00:00",
          "2021-08-01T00:00:00",
          "2021-08-08T00:00:00",
          "2021-08-15T00:00:00",
          "2021-08-22T00:00:00",
          "2021-08-29T00:00:00",
          "2021-09-05T00:00:00",
          "2021-09-12T00:00:00",
          "2021-09-19T00:00:00",
          "2021-09-26T00:00:00",
          "2021-10-03T00:00:00",
          "2021-10-10T00:00:00",
          "2021-10-17T00:00:00",
          "2021-10-24T00:00:00",
          "2021-10-31T00:00:00",
          "2021-11-07T00:00:00",
          "2021-11-14T00:00:00",
          "2021-11-21T00:00:00",
          "2021-11-28T00:00:00",
          "2021-12-05T00:00:00",
          "2021-12-12T00:00:00",
          "2021-12-19T00:00:00",
          "2021-12-26T00:00:00",
          "2022-01-02T00:00:00",
          "2022-01-09T00:00:00",
          "2022-01-16T00:00:00",
          "2022-01-23T00:00:00",
          "2022-01-30T00:00:00",
          "2022-02-06T00:00:00",
          "2022-02-13T00:00:00",
          "2022-02-20T00:00:00",
          "2022-02-27T00:00:00",
          "2022-03-06T00:00:00",
          "2022-03-13T00:00:00",
          "2022-03-20T00:00:00",
          "2022-03-27T00:00:00",
          "2022-04-03T00:00:00",
          "2022-04-10T00:00:00",
          "2022-04-17T00:00:00",
          "2022-04-24T00:00:00",
          "2022-05-01T00:00:00",
          "2022-05-08T00:00:00",
          "2022-05-15T00:00:00",
          "2022-05-22T00:00:00",
          "2022-05-29T00:00:00",
          "2022-06-05T00:00:00",
          "2022-06-12T00:00:00",
          "2022-06-19T00:00:00",
          "2022-06-26T00:00:00",
          "2022-07-03T00:00:00",
          "2022-07-10T00:00:00",
          "2022-07-17T00:00:00",
          "2022-07-24T00:00:00",
          "2022-07-31T00:00:00",
          "2022-08-07T00:00:00",
          "2022-08-14T00:00:00",
          "2022-08-21T00:00:00",
          "2022-08-28T00:00:00",
          "2022-09-04T00:00:00",
          "2022-09-11T00:00:00",
          "2022-09-18T00:00:00",
          "2022-09-25T00:00:00",
          "2022-10-02T00:00:00",
          "2022-10-09T00:00:00",
          "2022-10-16T00:00:00",
          "2022-10-23T00:00:00",
          "2022-10-30T00:00:00",
          "2022-11-06T00:00:00",
          "2022-11-13T00:00:00",
          "2022-11-20T00:00:00",
          "2022-11-27T00:00:00",
          "2022-12-04T00:00:00",
          "2022-12-11T00:00:00",
          "2022-12-18T00:00:00",
          "2022-12-25T00:00:00",
          "2023-01-01T00:00:00",
          "2023-01-08T00:00:00",
          "2023-01-15T00:00:00",
          "2023-01-22T00:00:00",
          "2023-01-29T00:00:00",
          "2023-02-05T00:00:00",
          "2023-02-12T00:00:00",
          "2023-02-19T00:00:00",
          "2023-02-26T00:00:00",
          "2023-03-05T00:00:00",
          "2023-03-12T00:00:00",
          "2023-03-19T00:00:00",
          "2023-03-26T00:00:00",
          "2023-04-02T00:00:00",
          "2023-04-09T00:00:00",
          "2023-04-16T00:00:00",
          "2023-04-23T00:00:00",
          "2023-04-30T00:00:00",
          "2023-05-07T00:00:00",
          "2023-05-14T00:00:00",
          "2023-05-21T00:00:00",
          "2023-05-28T00:00:00",
          "2023-06-04T00:00:00",
          "2023-06-11T00:00:00",
          "2023-06-18T00:00:00",
          "2023-06-25T00:00:00"
         ],
         "xaxis": "x",
         "y": [
          0,
          0,
          0,
          0,
          0,
          0,
          0,
          0,
          0,
          0,
          0,
          0,
          0,
          0,
          0,
          0,
          0,
          0,
          0,
          0,
          0,
          0,
          0,
          0,
          0,
          0,
          0,
          0,
          0,
          0,
          0,
          0,
          0,
          0,
          0,
          0,
          0,
          0,
          0,
          0,
          0,
          0,
          0,
          0,
          0,
          0,
          0,
          0,
          0,
          0,
          0,
          0,
          0,
          0,
          0,
          0,
          0,
          0,
          0,
          0,
          0,
          0,
          0,
          0,
          0,
          0,
          0,
          0,
          0,
          0,
          0,
          0,
          0,
          0,
          0,
          0,
          0,
          0,
          0,
          0,
          0,
          0,
          0,
          0,
          0,
          2,
          1.3333333333333335,
          2.142857142857143,
          1.772727272727273,
          0.2295081967213115,
          -0.013333333333333308,
          -0.10810810810810811,
          -0.09090909090909094,
          -0.06666666666666665,
          -0.017857142857142905,
          -0.054545454545454564,
          -0.05769230769230771,
          -0.04081632653061229,
          -0.12765957446808507,
          0.024390243902439046,
          -0.04761904761904767,
          0.07499999999999996,
          0.06976744186046502,
          0.0652173913043479,
          0,
          0.061224489795918435,
          -0.05769230769230771,
          0.1020408163265305,
          -0.09259259259259256,
          -0.08163265306122447,
          -0.0444444444444444,
          -0.11627906976744184,
          0.05263157894736836,
          0.02499999999999991,
          0,
          -0.024390243902439046,
          0.050000000000000044,
          0.11904761904761907,
          0,
          0.042553191489361764,
          0.1020408163265305,
          -0.09259259259259256,
          0.12244897959183665,
          0.10909090909090913,
          -0.1311475409836066,
          0,
          0.13207547169811318,
          -0.050000000000000044,
          0,
          0.14035087719298245,
          -0.10769230769230764,
          0.1206896551724137,
          -0.06153846153846154,
          -0.14754098360655743,
          -0.019230769230769273,
          -0.019607843137254943,
          -0.07999999999999996,
          0.10869565217391308,
          0.0980392156862746,
          0,
          0.017857142857142794,
          0.08771929824561409,
          0.048387096774193505,
          0.01538461538461533,
          -0.09090909090909094,
          0.03333333333333344,
          0.048387096774193505,
          -0.10769230769230764,
          -0.017241379310344862,
          0.01754385964912286,
          -0.017241379310344862,
          -0.14035087719298245,
          0.04081632653061229,
          -0.07843137254901966,
          0.1914893617021276,
          -0.0892857142857143,
          0,
          0.21568627450980382,
          0.09677419354838701,
          0.044117647058823595,
          0.014084507042253502,
          -0.09722222222222221,
          -0.07692307692307687,
          0.050000000000000044,
          -0.06349206349206349,
          -0.15254237288135597,
          0,
          -0.14,
          0.023255813953488413,
          -0.13636363636363635,
          0.05263157894736836,
          -0.025000000000000022,
          -0.1282051282051282,
          0.08823529411764697,
          0.027027027027026973,
          0.10526315789473695,
          0.1428571428571428,
          0.08333333333333326,
          -0.05769230769230771,
          0.40816326530612246,
          0.13043478260869557,
          0.1282051282051282,
          0.13636363636363646,
          -0.17000000000000004,
          0.09638554216867479,
          -0.39560439560439564,
          -0.1636363636363637,
          -0.19565217391304346,
          -0.16216216216216217,
          -0.12903225806451613,
          -0.07407407407407407,
          0.08000000000000007,
          -0.11111111111111116,
          0.04166666666666674,
          -0.12,
          0,
          -0.09090909090909094,
          -0.050000000000000044,
          -0.10526315789473684,
          0.05882352941176472,
          0,
          -0.05555555555555558,
          -0.05882352941176472,
          -0.0625,
          0.19999999999999996,
          -0.05555555555555558,
          0.11764705882352944,
          0.05263157894736836,
          0.10000000000000009,
          0,
          -0.09090909090909094,
          -0.09999999999999998,
          -0.16666666666666663,
          -0.1333333333333333,
          -0.07692307692307687,
          -0.08333333333333337,
          0,
          -0.09090909090909094,
          0,
          0,
          0,
          0,
          -0.09999999999999998,
          0.11111111111111116,
          -0.09999999999999998,
          -0.11111111111111116,
          0,
          0.125,
          -0.11111111111111116,
          0.25,
          -0.09999999999999998,
          0,
          0.33333333333333326,
          0,
          -0.16666666666666663,
          -0.09999999999999998,
          -0.2222222222222222,
          -0.1428571428571429,
          0,
          0,
          -0.16666666666666663,
          0,
          0.19999999999999996,
          -0.16666666666666663,
          0,
          0,
          0,
          0,
          0,
          0,
          0,
          0,
          0,
          -0.19999999999999996,
          0,
          0,
          -0.25,
          0,
          0,
          0
         ],
         "yaxis": "y2"
        },
        {
         "mode": "lines",
         "name": "0",
         "type": "scatter",
         "x": [
          "2018-07-08T00:00:00",
          "2018-07-15T00:00:00",
          "2018-07-22T00:00:00",
          "2018-07-29T00:00:00",
          "2018-08-05T00:00:00",
          "2018-08-12T00:00:00",
          "2018-08-19T00:00:00",
          "2018-08-26T00:00:00",
          "2018-09-02T00:00:00",
          "2018-09-09T00:00:00",
          "2018-09-16T00:00:00",
          "2018-09-23T00:00:00",
          "2018-09-30T00:00:00",
          "2018-10-07T00:00:00",
          "2018-10-14T00:00:00",
          "2018-10-21T00:00:00",
          "2018-10-28T00:00:00",
          "2018-11-04T00:00:00",
          "2018-11-11T00:00:00",
          "2018-11-18T00:00:00",
          "2018-11-25T00:00:00",
          "2018-12-02T00:00:00",
          "2018-12-09T00:00:00",
          "2018-12-16T00:00:00",
          "2018-12-23T00:00:00",
          "2018-12-30T00:00:00",
          "2019-01-06T00:00:00",
          "2019-01-13T00:00:00",
          "2019-01-20T00:00:00",
          "2019-01-27T00:00:00",
          "2019-02-03T00:00:00",
          "2019-02-10T00:00:00",
          "2019-02-17T00:00:00",
          "2019-02-24T00:00:00",
          "2019-03-03T00:00:00",
          "2019-03-10T00:00:00",
          "2019-03-17T00:00:00",
          "2019-03-24T00:00:00",
          "2019-03-31T00:00:00",
          "2019-04-07T00:00:00",
          "2019-04-14T00:00:00",
          "2019-04-21T00:00:00",
          "2019-04-28T00:00:00",
          "2019-05-05T00:00:00",
          "2019-05-12T00:00:00",
          "2019-05-19T00:00:00",
          "2019-05-26T00:00:00",
          "2019-06-02T00:00:00",
          "2019-06-09T00:00:00",
          "2019-06-16T00:00:00",
          "2019-06-23T00:00:00",
          "2019-06-30T00:00:00",
          "2019-07-07T00:00:00",
          "2019-07-14T00:00:00",
          "2019-07-21T00:00:00",
          "2019-07-28T00:00:00",
          "2019-08-04T00:00:00",
          "2019-08-11T00:00:00",
          "2019-08-18T00:00:00",
          "2019-08-25T00:00:00",
          "2019-09-01T00:00:00",
          "2019-09-08T00:00:00",
          "2019-09-15T00:00:00",
          "2019-09-22T00:00:00",
          "2019-09-29T00:00:00",
          "2019-10-06T00:00:00",
          "2019-10-13T00:00:00",
          "2019-10-20T00:00:00",
          "2019-10-27T00:00:00",
          "2019-11-03T00:00:00",
          "2019-11-10T00:00:00",
          "2019-11-17T00:00:00",
          "2019-11-24T00:00:00",
          "2019-12-01T00:00:00",
          "2019-12-08T00:00:00",
          "2019-12-15T00:00:00",
          "2019-12-22T00:00:00",
          "2019-12-29T00:00:00",
          "2020-01-05T00:00:00",
          "2020-01-12T00:00:00",
          "2020-01-19T00:00:00",
          "2020-01-26T00:00:00",
          "2020-02-02T00:00:00",
          "2020-02-09T00:00:00",
          "2020-02-16T00:00:00",
          "2020-02-23T00:00:00",
          "2020-03-01T00:00:00",
          "2020-03-08T00:00:00",
          "2020-03-15T00:00:00",
          "2020-03-22T00:00:00",
          "2020-03-29T00:00:00",
          "2020-04-05T00:00:00",
          "2020-04-12T00:00:00",
          "2020-04-19T00:00:00",
          "2020-04-26T00:00:00",
          "2020-05-03T00:00:00",
          "2020-05-10T00:00:00",
          "2020-05-17T00:00:00",
          "2020-05-24T00:00:00",
          "2020-05-31T00:00:00",
          "2020-06-07T00:00:00",
          "2020-06-14T00:00:00",
          "2020-06-21T00:00:00",
          "2020-06-28T00:00:00",
          "2020-07-05T00:00:00",
          "2020-07-12T00:00:00",
          "2020-07-19T00:00:00",
          "2020-07-26T00:00:00",
          "2020-08-02T00:00:00",
          "2020-08-09T00:00:00",
          "2020-08-16T00:00:00",
          "2020-08-23T00:00:00",
          "2020-08-30T00:00:00",
          "2020-09-06T00:00:00",
          "2020-09-13T00:00:00",
          "2020-09-20T00:00:00",
          "2020-09-27T00:00:00",
          "2020-10-04T00:00:00",
          "2020-10-11T00:00:00",
          "2020-10-18T00:00:00",
          "2020-10-25T00:00:00",
          "2020-11-01T00:00:00",
          "2020-11-08T00:00:00",
          "2020-11-15T00:00:00",
          "2020-11-22T00:00:00",
          "2020-11-29T00:00:00",
          "2020-12-06T00:00:00",
          "2020-12-13T00:00:00",
          "2020-12-20T00:00:00",
          "2020-12-27T00:00:00",
          "2021-01-03T00:00:00",
          "2021-01-10T00:00:00",
          "2021-01-17T00:00:00",
          "2021-01-24T00:00:00",
          "2021-01-31T00:00:00",
          "2021-02-07T00:00:00",
          "2021-02-14T00:00:00",
          "2021-02-21T00:00:00",
          "2021-02-28T00:00:00",
          "2021-03-07T00:00:00",
          "2021-03-14T00:00:00",
          "2021-03-21T00:00:00",
          "2021-03-28T00:00:00",
          "2021-04-04T00:00:00",
          "2021-04-11T00:00:00",
          "2021-04-18T00:00:00",
          "2021-04-25T00:00:00",
          "2021-05-02T00:00:00",
          "2021-05-09T00:00:00",
          "2021-05-16T00:00:00",
          "2021-05-23T00:00:00",
          "2021-05-30T00:00:00",
          "2021-06-06T00:00:00",
          "2021-06-13T00:00:00",
          "2021-06-20T00:00:00",
          "2021-06-27T00:00:00",
          "2021-07-04T00:00:00",
          "2021-07-11T00:00:00",
          "2021-07-18T00:00:00",
          "2021-07-25T00:00:00",
          "2021-08-01T00:00:00",
          "2021-08-08T00:00:00",
          "2021-08-15T00:00:00",
          "2021-08-22T00:00:00",
          "2021-08-29T00:00:00",
          "2021-09-05T00:00:00",
          "2021-09-12T00:00:00",
          "2021-09-19T00:00:00",
          "2021-09-26T00:00:00",
          "2021-10-03T00:00:00",
          "2021-10-10T00:00:00",
          "2021-10-17T00:00:00",
          "2021-10-24T00:00:00",
          "2021-10-31T00:00:00",
          "2021-11-07T00:00:00",
          "2021-11-14T00:00:00",
          "2021-11-21T00:00:00",
          "2021-11-28T00:00:00",
          "2021-12-05T00:00:00",
          "2021-12-12T00:00:00",
          "2021-12-19T00:00:00",
          "2021-12-26T00:00:00",
          "2022-01-02T00:00:00",
          "2022-01-09T00:00:00",
          "2022-01-16T00:00:00",
          "2022-01-23T00:00:00",
          "2022-01-30T00:00:00",
          "2022-02-06T00:00:00",
          "2022-02-13T00:00:00",
          "2022-02-20T00:00:00",
          "2022-02-27T00:00:00",
          "2022-03-06T00:00:00",
          "2022-03-13T00:00:00",
          "2022-03-20T00:00:00",
          "2022-03-27T00:00:00",
          "2022-04-03T00:00:00",
          "2022-04-10T00:00:00",
          "2022-04-17T00:00:00",
          "2022-04-24T00:00:00",
          "2022-05-01T00:00:00",
          "2022-05-08T00:00:00",
          "2022-05-15T00:00:00",
          "2022-05-22T00:00:00",
          "2022-05-29T00:00:00",
          "2022-06-05T00:00:00",
          "2022-06-12T00:00:00",
          "2022-06-19T00:00:00",
          "2022-06-26T00:00:00",
          "2022-07-03T00:00:00",
          "2022-07-10T00:00:00",
          "2022-07-17T00:00:00",
          "2022-07-24T00:00:00",
          "2022-07-31T00:00:00",
          "2022-08-07T00:00:00",
          "2022-08-14T00:00:00",
          "2022-08-21T00:00:00",
          "2022-08-28T00:00:00",
          "2022-09-04T00:00:00",
          "2022-09-11T00:00:00",
          "2022-09-18T00:00:00",
          "2022-09-25T00:00:00",
          "2022-10-02T00:00:00",
          "2022-10-09T00:00:00",
          "2022-10-16T00:00:00",
          "2022-10-23T00:00:00",
          "2022-10-30T00:00:00",
          "2022-11-06T00:00:00",
          "2022-11-13T00:00:00",
          "2022-11-20T00:00:00",
          "2022-11-27T00:00:00",
          "2022-12-04T00:00:00",
          "2022-12-11T00:00:00",
          "2022-12-18T00:00:00",
          "2022-12-25T00:00:00",
          "2023-01-01T00:00:00",
          "2023-01-08T00:00:00",
          "2023-01-15T00:00:00",
          "2023-01-22T00:00:00",
          "2023-01-29T00:00:00",
          "2023-02-05T00:00:00",
          "2023-02-12T00:00:00",
          "2023-02-19T00:00:00",
          "2023-02-26T00:00:00",
          "2023-03-05T00:00:00",
          "2023-03-12T00:00:00",
          "2023-03-19T00:00:00",
          "2023-03-26T00:00:00",
          "2023-04-02T00:00:00",
          "2023-04-09T00:00:00",
          "2023-04-16T00:00:00",
          "2023-04-23T00:00:00",
          "2023-04-30T00:00:00",
          "2023-05-07T00:00:00",
          "2023-05-14T00:00:00",
          "2023-05-21T00:00:00",
          "2023-05-28T00:00:00",
          "2023-06-04T00:00:00",
          "2023-06-11T00:00:00",
          "2023-06-18T00:00:00",
          "2023-06-25T00:00:00"
         ],
         "xaxis": "x",
         "y": [
          0.0038604297759980213,
          0.0014169164416136804,
          0.0010524118643340519,
          -0.00023981227062045974,
          -0.0012452329994527111,
          0.00012778628989008057,
          0.006960244749172418,
          0.006294868188132019,
          0.0008564367887616442,
          -0.006995941186864513,
          0.0028548081250429126,
          0.0008824804505937256,
          0.0011809731549113245,
          0.0005927969199529204,
          -0.011395479501517463,
          0.0002910960758193304,
          -0.010657692791903827,
          0.008799792785448124,
          0.0014014695976446445,
          -0.0050590333702715765,
          -0.006548431717369146,
          0.0017707502954386,
          0.001413371815186365,
          -0.0034697511663170253,
          -0.00610845884461918,
          0.01212754641782469,
          -0.000450208341885909,
          0.007221466131847726,
          0.003941248526453556,
          0.0011752875209616153,
          0.003559173195289568,
          0.0046067119656353185,
          0.0006649028445047889,
          0.0025941569423206913,
          0.0010859831516511042,
          0.0018073821860908445,
          0.0006885900532784317,
          0.0015662186895492314,
          -0.00048477488665686906,
          0.0013074423613803122,
          0.0024627975337164765,
          -0.0023974040397391344,
          0.005630009763606707,
          0.0016590710096289762,
          -0.0016171036000617533,
          0.007279771445412764,
          -0.0022620910778854363,
          -0.0002565318132264349,
          -0.00016625130675242404,
          0.007646907809128398,
          0.001465278480815807,
          -0.0002933783649500976,
          0.004943262290873979,
          -0.0011115646136415024,
          -0.0005747412623472115,
          0.002129618261614297,
          4.9894582016601906e-05,
          -0.006911525512354855,
          -0.0050925211536632375,
          0.005275002570094905,
          0.004665156618122712,
          0.0015834384530297562,
          -0.0039151139375916185,
          0.0023512575451542393,
          -0.00197045093289856,
          -0.004378529102977008,
          0.004927727792229442,
          -0.0008025154951732894,
          0.00036281664272546087,
          0.00013221678694972372,
          0.0030836733451046925,
          0.005863956296232015,
          -0.0018145381498058332,
          0.007527683955063846,
          -0.004066810533867144,
          0.0003172197021620693,
          0.0024727675757014065,
          0.000588971534625421,
          -0.003464156418932829,
          0.008800706890773852,
          0.004683599277817396,
          0.0015955109446300463,
          -0.0014375098303761671,
          0.0010444772173162863,
          0.0008496858640498594,
          -0.0027295212382754007,
          -0.0218511877898137,
          -0.0008354173521476049,
          -0.016575405005166965,
          -0.022765978828944385,
          0.007960658418316896,
          0.01031048242147078,
          0.01648988417500675,
          0.007383759451086887,
          -0.007853814847241352,
          0.0012613150862531397,
          0.009548954217064443,
          0.001874841851244352,
          0.004833097627875082,
          0.004574988250494483,
          0.0038920433358739957,
          -0.004233126658613355,
          0.0056869158626220604,
          -0.0006689497132227107,
          0.00864928854074678,
          -0.00044535029879265166,
          0.0006221743025232429,
          -0.0005483014224673344,
          -0.002001675903657296,
          0.00442953689897303,
          4.5567740936625076e-05,
          0.0037232974980948965,
          -0.0009652484052156074,
          -0.0073423277458998905,
          -0.0010820719455617745,
          0.00159712387033229,
          0.002552645526037517,
          -0.0025087609605381036,
          0.009829123256533363,
          0.003426918135798973,
          -0.0003965236881882328,
          -0.007747876664938086,
          0.009691508051811964,
          0.006155367166623221,
          -0.0005687665122431462,
          0.00022331251938307873,
          0.0010668887109637148,
          0.0017153066832868713,
          0.003839525501312452,
          -0.0005498403087441581,
          -0.00244234973463243,
          0.0012948682849735992,
          -0.0007893173094178308,
          0.005541956215730276,
          -0.0068518305118564285,
          0.007089551003567734,
          0.0014246501806237932,
          -2.4647362282581575e-05,
          -0.01152265305797131,
          -0.004504103521440839,
          0.002076321263980524,
          -0.0002176371046678116,
          0.0046662401640994,
          0.0002446063780385879,
          0.009062167873190717,
          0.003898770444261607,
          9.713381145918243e-05,
          -0.002262724090947854,
          -0.0037213768819086336,
          -0.004688816544350505,
          0.0025817356155467207,
          0.004731721138055212,
          0.0007208283113702308,
          0.005507587809724951,
          0.0040661605787581726,
          0.0006556584756570727,
          0.00027168226568508036,
          -0.002369057391833224,
          0.0010494450019982449,
          0.0025434901195823534,
          -0.0012398341789145062,
          0.007460699993741593,
          0.001138161079604272,
          -0.0024642562988045624,
          0.0004927523154333758,
          0.0013574655478225228,
          -0.0033928965496704765,
          0.00013737267218995043,
          -0.0003205622696221655,
          -0.008357877147904046,
          0.0017577740224136106,
          0.00288085413177257,
          -2.164108656990127e-05,
          -0.0008208471515336435,
          0.004825880092249502,
          -0.0005545989634415993,
          0.0030746511250156205,
          -0.003551309296540156,
          -0.0022863525592565714,
          0.0021316737702185675,
          -0.005368321096204193,
          0.006597133042197995,
          0.00020942670356463577,
          -0.005641379239780177,
          -0.0017320780495580558,
          -0.007249386049271706,
          -0.01063130231431518,
          0.0035372695579033832,
          0.00047188928078761296,
          -0.0014644353555368084,
          -0.004001275178416525,
          0.003951305070577516,
          -0.0038881509034388697,
          0.008523783243593546,
          0.0027261730322383606,
          0.002660166560643823,
          -0.0014135373948842567,
          0.0007113718646702266,
          -0.004127934149565922,
          -0.0016050410579502572,
          -0.0082020853219969,
          -0.00408913301477754,
          0.0043518658799446604,
          -0.002238917709253813,
          0.0021394051967171756,
          -0.005703669410404904,
          -0.01654306207247558,
          0.006428555612379766,
          -0.0030648821456859656,
          0.0069708205012980196,
          -0.0010657043678712562,
          0.006346353636600732,
          0.002033244790060723,
          0.005055088957064441,
          -0.0013220239684710645,
          0.0020971513408956253,
          0.00025549360259650154,
          -0.008723338780296769,
          0.004663065099693014,
          -0.006211642540238221,
          -0.00863954474435466,
          -6.612414722129145e-05,
          0.0075157266459747575,
          -0.004097551462498855,
          -0.0035841320316552182,
          0.0026462570283573073,
          0.003682498502883097,
          0.008227216990935305,
          0.0010813728633286945,
          0.001836712267418278,
          0.00466035704048467,
          -0.0034424248904866618,
          -0.0021987678011930467,
          -0.002682575610913235,
          -0.001717327095764239,
          0.0011454996343755602,
          0.004583817778120103,
          0.004901976941408914,
          0.0010471829078967515,
          0.004835683553997078,
          -0.005736317196771051,
          0.0012893215355223365,
          -0.0008137818955507303,
          -0.0004403721505832403,
          -0.0015501619785318165,
          -0.0030624096632283493,
          0.00015430522000305923,
          0.006286111880739071,
          0.0027388273012230874,
          0.004742383758526585,
          -0.0015143540988329708,
          0.00031783922603002834,
          -0.0016025749098412534,
          0.0022822901385151197,
          0.0030893453557530926,
          -0.00030926940373047216,
          0.001814830493117109,
          -0.0019813447281305406,
          0.0022786030928250087,
          -0.004668115760082197
         ],
         "yaxis": "y"
        }
       ],
       "layout": {
        "autosize": true,
        "template": {
         "data": {
          "bar": [
           {
            "error_x": {
             "color": "#2a3f5f"
            },
            "error_y": {
             "color": "#2a3f5f"
            },
            "marker": {
             "line": {
              "color": "#E5ECF6",
              "width": 0.5
             },
             "pattern": {
              "fillmode": "overlay",
              "size": 10,
              "solidity": 0.2
             }
            },
            "type": "bar"
           }
          ],
          "barpolar": [
           {
            "marker": {
             "line": {
              "color": "#E5ECF6",
              "width": 0.5
             },
             "pattern": {
              "fillmode": "overlay",
              "size": 10,
              "solidity": 0.2
             }
            },
            "type": "barpolar"
           }
          ],
          "carpet": [
           {
            "aaxis": {
             "endlinecolor": "#2a3f5f",
             "gridcolor": "white",
             "linecolor": "white",
             "minorgridcolor": "white",
             "startlinecolor": "#2a3f5f"
            },
            "baxis": {
             "endlinecolor": "#2a3f5f",
             "gridcolor": "white",
             "linecolor": "white",
             "minorgridcolor": "white",
             "startlinecolor": "#2a3f5f"
            },
            "type": "carpet"
           }
          ],
          "choropleth": [
           {
            "colorbar": {
             "outlinewidth": 0,
             "ticks": ""
            },
            "type": "choropleth"
           }
          ],
          "contour": [
           {
            "colorbar": {
             "outlinewidth": 0,
             "ticks": ""
            },
            "colorscale": [
             [
              0,
              "#0d0887"
             ],
             [
              0.1111111111111111,
              "#46039f"
             ],
             [
              0.2222222222222222,
              "#7201a8"
             ],
             [
              0.3333333333333333,
              "#9c179e"
             ],
             [
              0.4444444444444444,
              "#bd3786"
             ],
             [
              0.5555555555555556,
              "#d8576b"
             ],
             [
              0.6666666666666666,
              "#ed7953"
             ],
             [
              0.7777777777777778,
              "#fb9f3a"
             ],
             [
              0.8888888888888888,
              "#fdca26"
             ],
             [
              1,
              "#f0f921"
             ]
            ],
            "type": "contour"
           }
          ],
          "contourcarpet": [
           {
            "colorbar": {
             "outlinewidth": 0,
             "ticks": ""
            },
            "type": "contourcarpet"
           }
          ],
          "heatmap": [
           {
            "colorbar": {
             "outlinewidth": 0,
             "ticks": ""
            },
            "colorscale": [
             [
              0,
              "#0d0887"
             ],
             [
              0.1111111111111111,
              "#46039f"
             ],
             [
              0.2222222222222222,
              "#7201a8"
             ],
             [
              0.3333333333333333,
              "#9c179e"
             ],
             [
              0.4444444444444444,
              "#bd3786"
             ],
             [
              0.5555555555555556,
              "#d8576b"
             ],
             [
              0.6666666666666666,
              "#ed7953"
             ],
             [
              0.7777777777777778,
              "#fb9f3a"
             ],
             [
              0.8888888888888888,
              "#fdca26"
             ],
             [
              1,
              "#f0f921"
             ]
            ],
            "type": "heatmap"
           }
          ],
          "heatmapgl": [
           {
            "colorbar": {
             "outlinewidth": 0,
             "ticks": ""
            },
            "colorscale": [
             [
              0,
              "#0d0887"
             ],
             [
              0.1111111111111111,
              "#46039f"
             ],
             [
              0.2222222222222222,
              "#7201a8"
             ],
             [
              0.3333333333333333,
              "#9c179e"
             ],
             [
              0.4444444444444444,
              "#bd3786"
             ],
             [
              0.5555555555555556,
              "#d8576b"
             ],
             [
              0.6666666666666666,
              "#ed7953"
             ],
             [
              0.7777777777777778,
              "#fb9f3a"
             ],
             [
              0.8888888888888888,
              "#fdca26"
             ],
             [
              1,
              "#f0f921"
             ]
            ],
            "type": "heatmapgl"
           }
          ],
          "histogram": [
           {
            "marker": {
             "pattern": {
              "fillmode": "overlay",
              "size": 10,
              "solidity": 0.2
             }
            },
            "type": "histogram"
           }
          ],
          "histogram2d": [
           {
            "colorbar": {
             "outlinewidth": 0,
             "ticks": ""
            },
            "colorscale": [
             [
              0,
              "#0d0887"
             ],
             [
              0.1111111111111111,
              "#46039f"
             ],
             [
              0.2222222222222222,
              "#7201a8"
             ],
             [
              0.3333333333333333,
              "#9c179e"
             ],
             [
              0.4444444444444444,
              "#bd3786"
             ],
             [
              0.5555555555555556,
              "#d8576b"
             ],
             [
              0.6666666666666666,
              "#ed7953"
             ],
             [
              0.7777777777777778,
              "#fb9f3a"
             ],
             [
              0.8888888888888888,
              "#fdca26"
             ],
             [
              1,
              "#f0f921"
             ]
            ],
            "type": "histogram2d"
           }
          ],
          "histogram2dcontour": [
           {
            "colorbar": {
             "outlinewidth": 0,
             "ticks": ""
            },
            "colorscale": [
             [
              0,
              "#0d0887"
             ],
             [
              0.1111111111111111,
              "#46039f"
             ],
             [
              0.2222222222222222,
              "#7201a8"
             ],
             [
              0.3333333333333333,
              "#9c179e"
             ],
             [
              0.4444444444444444,
              "#bd3786"
             ],
             [
              0.5555555555555556,
              "#d8576b"
             ],
             [
              0.6666666666666666,
              "#ed7953"
             ],
             [
              0.7777777777777778,
              "#fb9f3a"
             ],
             [
              0.8888888888888888,
              "#fdca26"
             ],
             [
              1,
              "#f0f921"
             ]
            ],
            "type": "histogram2dcontour"
           }
          ],
          "mesh3d": [
           {
            "colorbar": {
             "outlinewidth": 0,
             "ticks": ""
            },
            "type": "mesh3d"
           }
          ],
          "parcoords": [
           {
            "line": {
             "colorbar": {
              "outlinewidth": 0,
              "ticks": ""
             }
            },
            "type": "parcoords"
           }
          ],
          "pie": [
           {
            "automargin": true,
            "type": "pie"
           }
          ],
          "scatter": [
           {
            "fillpattern": {
             "fillmode": "overlay",
             "size": 10,
             "solidity": 0.2
            },
            "type": "scatter"
           }
          ],
          "scatter3d": [
           {
            "line": {
             "colorbar": {
              "outlinewidth": 0,
              "ticks": ""
             }
            },
            "marker": {
             "colorbar": {
              "outlinewidth": 0,
              "ticks": ""
             }
            },
            "type": "scatter3d"
           }
          ],
          "scattercarpet": [
           {
            "marker": {
             "colorbar": {
              "outlinewidth": 0,
              "ticks": ""
             }
            },
            "type": "scattercarpet"
           }
          ],
          "scattergeo": [
           {
            "marker": {
             "colorbar": {
              "outlinewidth": 0,
              "ticks": ""
             }
            },
            "type": "scattergeo"
           }
          ],
          "scattergl": [
           {
            "marker": {
             "colorbar": {
              "outlinewidth": 0,
              "ticks": ""
             }
            },
            "type": "scattergl"
           }
          ],
          "scattermapbox": [
           {
            "marker": {
             "colorbar": {
              "outlinewidth": 0,
              "ticks": ""
             }
            },
            "type": "scattermapbox"
           }
          ],
          "scatterpolar": [
           {
            "marker": {
             "colorbar": {
              "outlinewidth": 0,
              "ticks": ""
             }
            },
            "type": "scatterpolar"
           }
          ],
          "scatterpolargl": [
           {
            "marker": {
             "colorbar": {
              "outlinewidth": 0,
              "ticks": ""
             }
            },
            "type": "scatterpolargl"
           }
          ],
          "scatterternary": [
           {
            "marker": {
             "colorbar": {
              "outlinewidth": 0,
              "ticks": ""
             }
            },
            "type": "scatterternary"
           }
          ],
          "surface": [
           {
            "colorbar": {
             "outlinewidth": 0,
             "ticks": ""
            },
            "colorscale": [
             [
              0,
              "#0d0887"
             ],
             [
              0.1111111111111111,
              "#46039f"
             ],
             [
              0.2222222222222222,
              "#7201a8"
             ],
             [
              0.3333333333333333,
              "#9c179e"
             ],
             [
              0.4444444444444444,
              "#bd3786"
             ],
             [
              0.5555555555555556,
              "#d8576b"
             ],
             [
              0.6666666666666666,
              "#ed7953"
             ],
             [
              0.7777777777777778,
              "#fb9f3a"
             ],
             [
              0.8888888888888888,
              "#fdca26"
             ],
             [
              1,
              "#f0f921"
             ]
            ],
            "type": "surface"
           }
          ],
          "table": [
           {
            "cells": {
             "fill": {
              "color": "#EBF0F8"
             },
             "line": {
              "color": "white"
             }
            },
            "header": {
             "fill": {
              "color": "#C8D4E3"
             },
             "line": {
              "color": "white"
             }
            },
            "type": "table"
           }
          ]
         },
         "layout": {
          "annotationdefaults": {
           "arrowcolor": "#2a3f5f",
           "arrowhead": 0,
           "arrowwidth": 1
          },
          "autotypenumbers": "strict",
          "coloraxis": {
           "colorbar": {
            "outlinewidth": 0,
            "ticks": ""
           }
          },
          "colorscale": {
           "diverging": [
            [
             0,
             "#8e0152"
            ],
            [
             0.1,
             "#c51b7d"
            ],
            [
             0.2,
             "#de77ae"
            ],
            [
             0.3,
             "#f1b6da"
            ],
            [
             0.4,
             "#fde0ef"
            ],
            [
             0.5,
             "#f7f7f7"
            ],
            [
             0.6,
             "#e6f5d0"
            ],
            [
             0.7,
             "#b8e186"
            ],
            [
             0.8,
             "#7fbc41"
            ],
            [
             0.9,
             "#4d9221"
            ],
            [
             1,
             "#276419"
            ]
           ],
           "sequential": [
            [
             0,
             "#0d0887"
            ],
            [
             0.1111111111111111,
             "#46039f"
            ],
            [
             0.2222222222222222,
             "#7201a8"
            ],
            [
             0.3333333333333333,
             "#9c179e"
            ],
            [
             0.4444444444444444,
             "#bd3786"
            ],
            [
             0.5555555555555556,
             "#d8576b"
            ],
            [
             0.6666666666666666,
             "#ed7953"
            ],
            [
             0.7777777777777778,
             "#fb9f3a"
            ],
            [
             0.8888888888888888,
             "#fdca26"
            ],
            [
             1,
             "#f0f921"
            ]
           ],
           "sequentialminus": [
            [
             0,
             "#0d0887"
            ],
            [
             0.1111111111111111,
             "#46039f"
            ],
            [
             0.2222222222222222,
             "#7201a8"
            ],
            [
             0.3333333333333333,
             "#9c179e"
            ],
            [
             0.4444444444444444,
             "#bd3786"
            ],
            [
             0.5555555555555556,
             "#d8576b"
            ],
            [
             0.6666666666666666,
             "#ed7953"
            ],
            [
             0.7777777777777778,
             "#fb9f3a"
            ],
            [
             0.8888888888888888,
             "#fdca26"
            ],
            [
             1,
             "#f0f921"
            ]
           ]
          },
          "colorway": [
           "#636efa",
           "#EF553B",
           "#00cc96",
           "#ab63fa",
           "#FFA15A",
           "#19d3f3",
           "#FF6692",
           "#B6E880",
           "#FF97FF",
           "#FECB52"
          ],
          "font": {
           "color": "#2a3f5f"
          },
          "geo": {
           "bgcolor": "white",
           "lakecolor": "white",
           "landcolor": "#E5ECF6",
           "showlakes": true,
           "showland": true,
           "subunitcolor": "white"
          },
          "hoverlabel": {
           "align": "left"
          },
          "hovermode": "closest",
          "mapbox": {
           "style": "light"
          },
          "paper_bgcolor": "white",
          "plot_bgcolor": "#E5ECF6",
          "polar": {
           "angularaxis": {
            "gridcolor": "white",
            "linecolor": "white",
            "ticks": ""
           },
           "bgcolor": "#E5ECF6",
           "radialaxis": {
            "gridcolor": "white",
            "linecolor": "white",
            "ticks": ""
           }
          },
          "scene": {
           "xaxis": {
            "backgroundcolor": "#E5ECF6",
            "gridcolor": "white",
            "gridwidth": 2,
            "linecolor": "white",
            "showbackground": true,
            "ticks": "",
            "zerolinecolor": "white"
           },
           "yaxis": {
            "backgroundcolor": "#E5ECF6",
            "gridcolor": "white",
            "gridwidth": 2,
            "linecolor": "white",
            "showbackground": true,
            "ticks": "",
            "zerolinecolor": "white"
           },
           "zaxis": {
            "backgroundcolor": "#E5ECF6",
            "gridcolor": "white",
            "gridwidth": 2,
            "linecolor": "white",
            "showbackground": true,
            "ticks": "",
            "zerolinecolor": "white"
           }
          },
          "shapedefaults": {
           "line": {
            "color": "#2a3f5f"
           }
          },
          "ternary": {
           "aaxis": {
            "gridcolor": "white",
            "linecolor": "white",
            "ticks": ""
           },
           "baxis": {
            "gridcolor": "white",
            "linecolor": "white",
            "ticks": ""
           },
           "bgcolor": "#E5ECF6",
           "caxis": {
            "gridcolor": "white",
            "linecolor": "white",
            "ticks": ""
           }
          },
          "title": {
           "x": 0.05
          },
          "xaxis": {
           "automargin": true,
           "gridcolor": "white",
           "linecolor": "white",
           "ticks": "",
           "title": {
            "standoff": 15
           },
           "zerolinecolor": "white",
           "zerolinewidth": 2
          },
          "yaxis": {
           "automargin": true,
           "gridcolor": "white",
           "linecolor": "white",
           "ticks": "",
           "title": {
            "standoff": 15
           },
           "zerolinecolor": "white",
           "zerolinewidth": 2
          }
         }
        },
        "title": {
         "text": "Comparison of adjusted portfolio and COVID term"
        },
        "xaxis": {
         "anchor": "y",
         "autorange": true,
         "domain": [
          0,
          0.94
         ],
         "range": [
          "2018-07-04 12:00",
          "2023-06-28 12:00"
         ],
         "type": "date"
        },
        "yaxis": {
         "anchor": "x",
         "autorange": true,
         "domain": [
          0,
          1
         ],
         "range": [
          -0.02494686010694167,
          0.018670765453004032
         ],
         "title": {
          "text": "Returns"
         },
         "type": "linear"
        },
        "yaxis2": {
         "anchor": "x",
         "autorange": false,
         "overlaying": "y",
         "range": [
          -1.6178266178266179,
          1.2026862026862026
         ],
         "side": "right",
         "title": {
          "text": "COVID"
         },
         "type": "linear"
        }
       }
      },
      "image/png": "[encoded data removed]",
      "text/html": [
       "<div>                            <div id=\"cf7a5b8c-802b-4b3e-adc1-90bb50ab3201\" class=\"plotly-graph-div\" style=\"height:525px; width:100%;\"></div>            <script type=\"text/javascript\">                require([\"plotly\"], function(Plotly) {                    window.PLOTLYENV=window.PLOTLYENV || {};                                    if (document.getElementById(\"cf7a5b8c-802b-4b3e-adc1-90bb50ab3201\")) {                    Plotly.newPlot(                        \"cf7a5b8c-802b-4b3e-adc1-90bb50ab3201\",                        [{\"name\":\"COVID\",\"x\":[\"2018-07-08T00:00:00\",\"2018-07-15T00:00:00\",\"2018-07-22T00:00:00\",\"2018-07-29T00:00:00\",\"2018-08-05T00:00:00\",\"2018-08-12T00:00:00\",\"2018-08-19T00:00:00\",\"2018-08-26T00:00:00\",\"2018-09-02T00:00:00\",\"2018-09-09T00:00:00\",\"2018-09-16T00:00:00\",\"2018-09-23T00:00:00\",\"2018-09-30T00:00:00\",\"2018-10-07T00:00:00\",\"2018-10-14T00:00:00\",\"2018-10-21T00:00:00\",\"2018-10-28T00:00:00\",\"2018-11-04T00:00:00\",\"2018-11-11T00:00:00\",\"2018-11-18T00:00:00\",\"2018-11-25T00:00:00\",\"2018-12-02T00:00:00\",\"2018-12-09T00:00:00\",\"2018-12-16T00:00:00\",\"2018-12-23T00:00:00\",\"2018-12-30T00:00:00\",\"2019-01-06T00:00:00\",\"2019-01-13T00:00:00\",\"2019-01-20T00:00:00\",\"2019-01-27T00:00:00\",\"2019-02-03T00:00:00\",\"2019-02-10T00:00:00\",\"2019-02-17T00:00:00\",\"2019-02-24T00:00:00\",\"2019-03-03T00:00:00\",\"2019-03-10T00:00:00\",\"2019-03-17T00:00:00\",\"2019-03-24T00:00:00\",\"2019-03-31T00:00:00\",\"2019-04-07T00:00:00\",\"2019-04-14T00:00:00\",\"2019-04-21T00:00:00\",\"2019-04-28T00:00:00\",\"2019-05-05T00:00:00\",\"2019-05-12T00:00:00\",\"2019-05-19T00:00:00\",\"2019-05-26T00:00:00\",\"2019-06-02T00:00:00\",\"2019-06-09T00:00:00\",\"2019-06-16T00:00:00\",\"2019-06-23T00:00:00\",\"2019-06-30T00:00:00\",\"2019-07-07T00:00:00\",\"2019-07-14T00:00:00\",\"2019-07-21T00:00:00\",\"2019-07-28T00:00:00\",\"2019-08-04T00:00:00\",\"2019-08-11T00:00:00\",\"2019-08-18T00:00:00\",\"2019-08-25T00:00:00\",\"2019-09-01T00:00:00\",\"2019-09-08T00:00:00\",\"2019-09-15T00:00:00\",\"2019-09-22T00:00:00\",\"2019-09-29T00:00:00\",\"2019-10-06T00:00:00\",\"2019-10-13T00:00:00\",\"2019-10-20T00:00:00\",\"2019-10-27T00:00:00\",\"2019-11-03T00:00:00\",\"2019-11-10T00:00:00\",\"2019-11-17T00:00:00\",\"2019-11-24T00:00:00\",\"2019-12-01T00:00:00\",\"2019-12-08T00:00:00\",\"2019-12-15T00:00:00\",\"2019-12-22T00:00:00\",\"2019-12-29T00:00:00\",\"2020-01-05T00:00:00\",\"2020-01-12T00:00:00\",\"2020-01-19T00:00:00\",\"2020-01-26T00:00:00\",\"2020-02-02T00:00:00\",\"2020-02-09T00:00:00\",\"2020-02-16T00:00:00\",\"2020-02-23T00:00:00\",\"2020-03-01T00:00:00\",\"2020-03-08T00:00:00\",\"2020-03-15T00:00:00\",\"2020-03-22T00:00:00\",\"2020-03-29T00:00:00\",\"2020-04-05T00:00:00\",\"2020-04-12T00:00:00\",\"2020-04-19T00:00:00\",\"2020-04-26T00:00:00\",\"2020-05-03T00:00:00\",\"2020-05-10T00:00:00\",\"2020-05-17T00:00:00\",\"2020-05-24T00:00:00\",\"2020-05-31T00:00:00\",\"2020-06-07T00:00:00\",\"2020-06-14T00:00:00\",\"2020-06-21T00:00:00\",\"2020-06-28T00:00:00\",\"2020-07-05T00:00:00\",\"2020-07-12T00:00:00\",\"2020-07-19T00:00:00\",\"2020-07-26T00:00:00\",\"2020-08-02T00:00:00\",\"2020-08-09T00:00:00\",\"2020-08-16T00:00:00\",\"2020-08-23T00:00:00\",\"2020-08-30T00:00:00\",\"2020-09-06T00:00:00\",\"2020-09-13T00:00:00\",\"2020-09-20T00:00:00\",\"2020-09-27T00:00:00\",\"2020-10-04T00:00:00\",\"2020-10-11T00:00:00\",\"2020-10-18T00:00:00\",\"2020-10-25T00:00:00\",\"2020-11-01T00:00:00\",\"2020-11-08T00:00:00\",\"2020-11-15T00:00:00\",\"2020-11-22T00:00:00\",\"2020-11-29T00:00:00\",\"2020-12-06T00:00:00\",\"2020-12-13T00:00:00\",\"2020-12-20T00:00:00\",\"2020-12-27T00:00:00\",\"2021-01-03T00:00:00\",\"2021-01-10T00:00:00\",\"2021-01-17T00:00:00\",\"2021-01-24T00:00:00\",\"2021-01-31T00:00:00\",\"2021-02-07T00:00:00\",\"2021-02-14T00:00:00\",\"2021-02-21T00:00:00\",\"2021-02-28T00:00:00\",\"2021-03-07T00:00:00\",\"2021-03-14T00:00:00\",\"2021-03-21T00:00:00\",\"2021-03-28T00:00:00\",\"2021-04-04T00:00:00\",\"2021-04-11T00:00:00\",\"2021-04-18T00:00:00\",\"2021-04-25T00:00:00\",\"2021-05-02T00:00:00\",\"2021-05-09T00:00:00\",\"2021-05-16T00:00:00\",\"2021-05-23T00:00:00\",\"2021-05-30T00:00:00\",\"2021-06-06T00:00:00\",\"2021-06-13T00:00:00\",\"2021-06-20T00:00:00\",\"2021-06-27T00:00:00\",\"2021-07-04T00:00:00\",\"2021-07-11T00:00:00\",\"2021-07-18T00:00:00\",\"2021-07-25T00:00:00\",\"2021-08-01T00:00:00\",\"2021-08-08T00:00:00\",\"2021-08-15T00:00:00\",\"2021-08-22T00:00:00\",\"2021-08-29T00:00:00\",\"2021-09-05T00:00:00\",\"2021-09-12T00:00:00\",\"2021-09-19T00:00:00\",\"2021-09-26T00:00:00\",\"2021-10-03T00:00:00\",\"2021-10-10T00:00:00\",\"2021-10-17T00:00:00\",\"2021-10-24T00:00:00\",\"2021-10-31T00:00:00\",\"2021-11-07T00:00:00\",\"2021-11-14T00:00:00\",\"2021-11-21T00:00:00\",\"2021-11-28T00:00:00\",\"2021-12-05T00:00:00\",\"2021-12-12T00:00:00\",\"2021-12-19T00:00:00\",\"2021-12-26T00:00:00\",\"2022-01-02T00:00:00\",\"2022-01-09T00:00:00\",\"2022-01-16T00:00:00\",\"2022-01-23T00:00:00\",\"2022-01-30T00:00:00\",\"2022-02-06T00:00:00\",\"2022-02-13T00:00:00\",\"2022-02-20T00:00:00\",\"2022-02-27T00:00:00\",\"2022-03-06T00:00:00\",\"2022-03-13T00:00:00\",\"2022-03-20T00:00:00\",\"2022-03-27T00:00:00\",\"2022-04-03T00:00:00\",\"2022-04-10T00:00:00\",\"2022-04-17T00:00:00\",\"2022-04-24T00:00:00\",\"2022-05-01T00:00:00\",\"2022-05-08T00:00:00\",\"2022-05-15T00:00:00\",\"2022-05-22T00:00:00\",\"2022-05-29T00:00:00\",\"2022-06-05T00:00:00\",\"2022-06-12T00:00:00\",\"2022-06-19T00:00:00\",\"2022-06-26T00:00:00\",\"2022-07-03T00:00:00\",\"2022-07-10T00:00:00\",\"2022-07-17T00:00:00\",\"2022-07-24T00:00:00\",\"2022-07-31T00:00:00\",\"2022-08-07T00:00:00\",\"2022-08-14T00:00:00\",\"2022-08-21T00:00:00\",\"2022-08-28T00:00:00\",\"2022-09-04T00:00:00\",\"2022-09-11T00:00:00\",\"2022-09-18T00:00:00\",\"2022-09-25T00:00:00\",\"2022-10-02T00:00:00\",\"2022-10-09T00:00:00\",\"2022-10-16T00:00:00\",\"2022-10-23T00:00:00\",\"2022-10-30T00:00:00\",\"2022-11-06T00:00:00\",\"2022-11-13T00:00:00\",\"2022-11-20T00:00:00\",\"2022-11-27T00:00:00\",\"2022-12-04T00:00:00\",\"2022-12-11T00:00:00\",\"2022-12-18T00:00:00\",\"2022-12-25T00:00:00\",\"2023-01-01T00:00:00\",\"2023-01-08T00:00:00\",\"2023-01-15T00:00:00\",\"2023-01-22T00:00:00\",\"2023-01-29T00:00:00\",\"2023-02-05T00:00:00\",\"2023-02-12T00:00:00\",\"2023-02-19T00:00:00\",\"2023-02-26T00:00:00\",\"2023-03-05T00:00:00\",\"2023-03-12T00:00:00\",\"2023-03-19T00:00:00\",\"2023-03-26T00:00:00\",\"2023-04-02T00:00:00\",\"2023-04-09T00:00:00\",\"2023-04-16T00:00:00\",\"2023-04-23T00:00:00\",\"2023-04-30T00:00:00\",\"2023-05-07T00:00:00\",\"2023-05-14T00:00:00\",\"2023-05-21T00:00:00\",\"2023-05-28T00:00:00\",\"2023-06-04T00:00:00\",\"2023-06-11T00:00:00\",\"2023-06-18T00:00:00\",\"2023-06-25T00:00:00\"],\"y\":[0.0,0.0,0.0,0.0,0.0,0.0,0.0,0.0,0.0,0.0,0.0,0.0,0.0,0.0,0.0,0.0,0.0,0.0,0.0,0.0,0.0,0.0,0.0,0.0,0.0,0.0,0.0,0.0,0.0,0.0,0.0,0.0,0.0,0.0,0.0,0.0,0.0,0.0,0.0,0.0,0.0,0.0,0.0,0.0,0.0,0.0,0.0,0.0,0.0,0.0,0.0,0.0,0.0,0.0,0.0,0.0,0.0,0.0,0.0,0.0,0.0,0.0,0.0,0.0,0.0,0.0,0.0,0.0,0.0,0.0,0.0,0.0,0.0,0.0,0.0,0.0,0.0,0.0,0.0,0.0,0.0,0.0,0.0,0.0,0.0,2.0,1.3333333333333335,2.142857142857143,1.772727272727273,0.2295081967213115,-0.013333333333333308,-0.10810810810810811,-0.09090909090909094,-0.06666666666666665,-0.017857142857142905,-0.054545454545454564,-0.05769230769230771,-0.04081632653061229,-0.12765957446808507,0.024390243902439046,-0.04761904761904767,0.07499999999999996,0.06976744186046502,0.0652173913043479,0.0,0.061224489795918435,-0.05769230769230771,0.1020408163265305,-0.09259259259259256,-0.08163265306122447,-0.0444444444444444,-0.11627906976744184,0.05263157894736836,0.02499999999999991,0.0,-0.024390243902439046,0.050000000000000044,0.11904761904761907,0.0,0.042553191489361764,0.1020408163265305,-0.09259259259259256,0.12244897959183665,0.10909090909090913,-0.1311475409836066,0.0,0.13207547169811318,-0.050000000000000044,0.0,0.14035087719298245,-0.10769230769230764,0.1206896551724137,-0.06153846153846154,-0.14754098360655743,-0.019230769230769273,-0.019607843137254943,-0.07999999999999996,0.10869565217391308,0.0980392156862746,0.0,0.017857142857142794,0.08771929824561409,0.048387096774193505,0.01538461538461533,-0.09090909090909094,0.03333333333333344,0.048387096774193505,-0.10769230769230764,-0.017241379310344862,0.01754385964912286,-0.017241379310344862,-0.14035087719298245,0.04081632653061229,-0.07843137254901966,0.1914893617021276,-0.0892857142857143,0.0,0.21568627450980382,0.09677419354838701,0.044117647058823595,0.014084507042253502,-0.09722222222222221,-0.07692307692307687,0.050000000000000044,-0.06349206349206349,-0.15254237288135597,0.0,-0.14,0.023255813953488413,-0.13636363636363635,0.05263157894736836,-0.025000000000000022,-0.1282051282051282,0.08823529411764697,0.027027027027026973,0.10526315789473695,0.1428571428571428,0.08333333333333326,-0.05769230769230771,0.40816326530612246,0.13043478260869557,0.1282051282051282,0.13636363636363646,-0.17000000000000004,0.09638554216867479,-0.39560439560439564,-0.1636363636363637,-0.19565217391304346,-0.16216216216216217,-0.12903225806451613,-0.07407407407407407,0.08000000000000007,-0.11111111111111116,0.04166666666666674,-0.12,0.0,-0.09090909090909094,-0.050000000000000044,-0.10526315789473684,0.05882352941176472,0.0,-0.05555555555555558,-0.05882352941176472,-0.0625,0.19999999999999996,-0.05555555555555558,0.11764705882352944,0.05263157894736836,0.10000000000000009,0.0,-0.09090909090909094,-0.09999999999999998,-0.16666666666666663,-0.1333333333333333,-0.07692307692307687,-0.08333333333333337,0.0,-0.09090909090909094,0.0,0.0,0.0,0.0,-0.09999999999999998,0.11111111111111116,-0.09999999999999998,-0.11111111111111116,0.0,0.125,-0.11111111111111116,0.25,-0.09999999999999998,0.0,0.33333333333333326,0.0,-0.16666666666666663,-0.09999999999999998,-0.2222222222222222,-0.1428571428571429,0.0,0.0,-0.16666666666666663,0.0,0.19999999999999996,-0.16666666666666663,0.0,0.0,0.0,0.0,0.0,0.0,0.0,0.0,0.0,-0.19999999999999996,0.0,0.0,-0.25,0.0,0.0,0.0],\"type\":\"bar\",\"xaxis\":\"x\",\"yaxis\":\"y2\"},{\"mode\":\"lines\",\"name\":\"0\",\"x\":[\"2018-07-08T00:00:00\",\"2018-07-15T00:00:00\",\"2018-07-22T00:00:00\",\"2018-07-29T00:00:00\",\"2018-08-05T00:00:00\",\"2018-08-12T00:00:00\",\"2018-08-19T00:00:00\",\"2018-08-26T00:00:00\",\"2018-09-02T00:00:00\",\"2018-09-09T00:00:00\",\"2018-09-16T00:00:00\",\"2018-09-23T00:00:00\",\"2018-09-30T00:00:00\",\"2018-10-07T00:00:00\",\"2018-10-14T00:00:00\",\"2018-10-21T00:00:00\",\"2018-10-28T00:00:00\",\"2018-11-04T00:00:00\",\"2018-11-11T00:00:00\",\"2018-11-18T00:00:00\",\"2018-11-25T00:00:00\",\"2018-12-02T00:00:00\",\"2018-12-09T00:00:00\",\"2018-12-16T00:00:00\",\"2018-12-23T00:00:00\",\"2018-12-30T00:00:00\",\"2019-01-06T00:00:00\",\"2019-01-13T00:00:00\",\"2019-01-20T00:00:00\",\"2019-01-27T00:00:00\",\"2019-02-03T00:00:00\",\"2019-02-10T00:00:00\",\"2019-02-17T00:00:00\",\"2019-02-24T00:00:00\",\"2019-03-03T00:00:00\",\"2019-03-10T00:00:00\",\"2019-03-17T00:00:00\",\"2019-03-24T00:00:00\",\"2019-03-31T00:00:00\",\"2019-04-07T00:00:00\",\"2019-04-14T00:00:00\",\"2019-04-21T00:00:00\",\"2019-04-28T00:00:00\",\"2019-05-05T00:00:00\",\"2019-05-12T00:00:00\",\"2019-05-19T00:00:00\",\"2019-05-26T00:00:00\",\"2019-06-02T00:00:00\",\"2019-06-09T00:00:00\",\"2019-06-16T00:00:00\",\"2019-06-23T00:00:00\",\"2019-06-30T00:00:00\",\"2019-07-07T00:00:00\",\"2019-07-14T00:00:00\",\"2019-07-21T00:00:00\",\"2019-07-28T00:00:00\",\"2019-08-04T00:00:00\",\"2019-08-11T00:00:00\",\"2019-08-18T00:00:00\",\"2019-08-25T00:00:00\",\"2019-09-01T00:00:00\",\"2019-09-08T00:00:00\",\"2019-09-15T00:00:00\",\"2019-09-22T00:00:00\",\"2019-09-29T00:00:00\",\"2019-10-06T00:00:00\",\"2019-10-13T00:00:00\",\"2019-10-20T00:00:00\",\"2019-10-27T00:00:00\",\"2019-11-03T00:00:00\",\"2019-11-10T00:00:00\",\"2019-11-17T00:00:00\",\"2019-11-24T00:00:00\",\"2019-12-01T00:00:00\",\"2019-12-08T00:00:00\",\"2019-12-15T00:00:00\",\"2019-12-22T00:00:00\",\"2019-12-29T00:00:00\",\"2020-01-05T00:00:00\",\"2020-01-12T00:00:00\",\"2020-01-19T00:00:00\",\"2020-01-26T00:00:00\",\"2020-02-02T00:00:00\",\"2020-02-09T00:00:00\",\"2020-02-16T00:00:00\",\"2020-02-23T00:00:00\",\"2020-03-01T00:00:00\",\"2020-03-08T00:00:00\",\"2020-03-15T00:00:00\",\"2020-03-22T00:00:00\",\"2020-03-29T00:00:00\",\"2020-04-05T00:00:00\",\"2020-04-12T00:00:00\",\"2020-04-19T00:00:00\",\"2020-04-26T00:00:00\",\"2020-05-03T00:00:00\",\"2020-05-10T00:00:00\",\"2020-05-17T00:00:00\",\"2020-05-24T00:00:00\",\"2020-05-31T00:00:00\",\"2020-06-07T00:00:00\",\"2020-06-14T00:00:00\",\"2020-06-21T00:00:00\",\"2020-06-28T00:00:00\",\"2020-07-05T00:00:00\",\"2020-07-12T00:00:00\",\"2020-07-19T00:00:00\",\"2020-07-26T00:00:00\",\"2020-08-02T00:00:00\",\"2020-08-09T00:00:00\",\"2020-08-16T00:00:00\",\"2020-08-23T00:00:00\",\"2020-08-30T00:00:00\",\"2020-09-06T00:00:00\",\"2020-09-13T00:00:00\",\"2020-09-20T00:00:00\",\"2020-09-27T00:00:00\",\"2020-10-04T00:00:00\",\"2020-10-11T00:00:00\",\"2020-10-18T00:00:00\",\"2020-10-25T00:00:00\",\"2020-11-01T00:00:00\",\"2020-11-08T00:00:00\",\"2020-11-15T00:00:00\",\"2020-11-22T00:00:00\",\"2020-11-29T00:00:00\",\"2020-12-06T00:00:00\",\"2020-12-13T00:00:00\",\"2020-12-20T00:00:00\",\"2020-12-27T00:00:00\",\"2021-01-03T00:00:00\",\"2021-01-10T00:00:00\",\"2021-01-17T00:00:00\",\"2021-01-24T00:00:00\",\"2021-01-31T00:00:00\",\"2021-02-07T00:00:00\",\"2021-02-14T00:00:00\",\"2021-02-21T00:00:00\",\"2021-02-28T00:00:00\",\"2021-03-07T00:00:00\",\"2021-03-14T00:00:00\",\"2021-03-21T00:00:00\",\"2021-03-28T00:00:00\",\"2021-04-04T00:00:00\",\"2021-04-11T00:00:00\",\"2021-04-18T00:00:00\",\"2021-04-25T00:00:00\",\"2021-05-02T00:00:00\",\"2021-05-09T00:00:00\",\"2021-05-16T00:00:00\",\"2021-05-23T00:00:00\",\"2021-05-30T00:00:00\",\"2021-06-06T00:00:00\",\"2021-06-13T00:00:00\",\"2021-06-20T00:00:00\",\"2021-06-27T00:00:00\",\"2021-07-04T00:00:00\",\"2021-07-11T00:00:00\",\"2021-07-18T00:00:00\",\"2021-07-25T00:00:00\",\"2021-08-01T00:00:00\",\"2021-08-08T00:00:00\",\"2021-08-15T00:00:00\",\"2021-08-22T00:00:00\",\"2021-08-29T00:00:00\",\"2021-09-05T00:00:00\",\"2021-09-12T00:00:00\",\"2021-09-19T00:00:00\",\"2021-09-26T00:00:00\",\"2021-10-03T00:00:00\",\"2021-10-10T00:00:00\",\"2021-10-17T00:00:00\",\"2021-10-24T00:00:00\",\"2021-10-31T00:00:00\",\"2021-11-07T00:00:00\",\"2021-11-14T00:00:00\",\"2021-11-21T00:00:00\",\"2021-11-28T00:00:00\",\"2021-12-05T00:00:00\",\"2021-12-12T00:00:00\",\"2021-12-19T00:00:00\",\"2021-12-26T00:00:00\",\"2022-01-02T00:00:00\",\"2022-01-09T00:00:00\",\"2022-01-16T00:00:00\",\"2022-01-23T00:00:00\",\"2022-01-30T00:00:00\",\"2022-02-06T00:00:00\",\"2022-02-13T00:00:00\",\"2022-02-20T00:00:00\",\"2022-02-27T00:00:00\",\"2022-03-06T00:00:00\",\"2022-03-13T00:00:00\",\"2022-03-20T00:00:00\",\"2022-03-27T00:00:00\",\"2022-04-03T00:00:00\",\"2022-04-10T00:00:00\",\"2022-04-17T00:00:00\",\"2022-04-24T00:00:00\",\"2022-05-01T00:00:00\",\"2022-05-08T00:00:00\",\"2022-05-15T00:00:00\",\"2022-05-22T00:00:00\",\"2022-05-29T00:00:00\",\"2022-06-05T00:00:00\",\"2022-06-12T00:00:00\",\"2022-06-19T00:00:00\",\"2022-06-26T00:00:00\",\"2022-07-03T00:00:00\",\"2022-07-10T00:00:00\",\"2022-07-17T00:00:00\",\"2022-07-24T00:00:00\",\"2022-07-31T00:00:00\",\"2022-08-07T00:00:00\",\"2022-08-14T00:00:00\",\"2022-08-21T00:00:00\",\"2022-08-28T00:00:00\",\"2022-09-04T00:00:00\",\"2022-09-11T00:00:00\",\"2022-09-18T00:00:00\",\"2022-09-25T00:00:00\",\"2022-10-02T00:00:00\",\"2022-10-09T00:00:00\",\"2022-10-16T00:00:00\",\"2022-10-23T00:00:00\",\"2022-10-30T00:00:00\",\"2022-11-06T00:00:00\",\"2022-11-13T00:00:00\",\"2022-11-20T00:00:00\",\"2022-11-27T00:00:00\",\"2022-12-04T00:00:00\",\"2022-12-11T00:00:00\",\"2022-12-18T00:00:00\",\"2022-12-25T00:00:00\",\"2023-01-01T00:00:00\",\"2023-01-08T00:00:00\",\"2023-01-15T00:00:00\",\"2023-01-22T00:00:00\",\"2023-01-29T00:00:00\",\"2023-02-05T00:00:00\",\"2023-02-12T00:00:00\",\"2023-02-19T00:00:00\",\"2023-02-26T00:00:00\",\"2023-03-05T00:00:00\",\"2023-03-12T00:00:00\",\"2023-03-19T00:00:00\",\"2023-03-26T00:00:00\",\"2023-04-02T00:00:00\",\"2023-04-09T00:00:00\",\"2023-04-16T00:00:00\",\"2023-04-23T00:00:00\",\"2023-04-30T00:00:00\",\"2023-05-07T00:00:00\",\"2023-05-14T00:00:00\",\"2023-05-21T00:00:00\",\"2023-05-28T00:00:00\",\"2023-06-04T00:00:00\",\"2023-06-11T00:00:00\",\"2023-06-18T00:00:00\",\"2023-06-25T00:00:00\"],\"y\":[0.0038604297759980213,0.0014169164416136804,0.0010524118643340519,-0.00023981227062045974,-0.0012452329994527111,0.00012778628989008057,0.006960244749172418,0.006294868188132019,0.0008564367887616442,-0.006995941186864513,0.0028548081250429126,0.0008824804505937256,0.0011809731549113245,0.0005927969199529204,-0.011395479501517463,0.0002910960758193304,-0.010657692791903827,0.008799792785448124,0.0014014695976446445,-0.0050590333702715765,-0.006548431717369146,0.0017707502954386,0.001413371815186365,-0.0034697511663170253,-0.00610845884461918,0.01212754641782469,-0.000450208341885909,0.007221466131847726,0.003941248526453556,0.0011752875209616153,0.003559173195289568,0.0046067119656353185,0.0006649028445047889,0.0025941569423206913,0.0010859831516511042,0.0018073821860908445,0.0006885900532784317,0.0015662186895492314,-0.00048477488665686906,0.0013074423613803122,0.0024627975337164765,-0.0023974040397391344,0.005630009763606707,0.0016590710096289762,-0.0016171036000617533,0.007279771445412764,-0.0022620910778854363,-0.0002565318132264349,-0.00016625130675242404,0.007646907809128398,0.001465278480815807,-0.0002933783649500976,0.004943262290873979,-0.0011115646136415024,-0.0005747412623472115,0.002129618261614297,4.9894582016601906e-05,-0.006911525512354855,-0.0050925211536632375,0.005275002570094905,0.004665156618122712,0.0015834384530297562,-0.0039151139375916185,0.0023512575451542393,-0.00197045093289856,-0.004378529102977008,0.004927727792229442,-0.0008025154951732894,0.00036281664272546087,0.00013221678694972372,0.0030836733451046925,0.005863956296232015,-0.0018145381498058332,0.007527683955063846,-0.004066810533867144,0.0003172197021620693,0.0024727675757014065,0.000588971534625421,-0.003464156418932829,0.008800706890773852,0.004683599277817396,0.0015955109446300463,-0.0014375098303761671,0.0010444772173162863,0.0008496858640498594,-0.0027295212382754007,-0.0218511877898137,-0.0008354173521476049,-0.016575405005166965,-0.022765978828944385,0.007960658418316896,0.01031048242147078,0.01648988417500675,0.007383759451086887,-0.007853814847241352,0.0012613150862531397,0.009548954217064443,0.001874841851244352,0.004833097627875082,0.004574988250494483,0.0038920433358739957,-0.004233126658613355,0.0056869158626220604,-0.0006689497132227107,0.00864928854074678,-0.00044535029879265166,0.0006221743025232429,-0.0005483014224673344,-0.002001675903657296,0.00442953689897303,4.5567740936625076e-05,0.0037232974980948965,-0.0009652484052156074,-0.0073423277458998905,-0.0010820719455617745,0.00159712387033229,0.002552645526037517,-0.0025087609605381036,0.009829123256533363,0.003426918135798973,-0.0003965236881882328,-0.007747876664938086,0.009691508051811964,0.006155367166623221,-0.0005687665122431462,0.00022331251938307873,0.0010668887109637148,0.0017153066832868713,0.003839525501312452,-0.0005498403087441581,-0.00244234973463243,0.0012948682849735992,-0.0007893173094178308,0.005541956215730276,-0.0068518305118564285,0.007089551003567734,0.0014246501806237932,-2.4647362282581575e-05,-0.01152265305797131,-0.004504103521440839,0.002076321263980524,-0.0002176371046678116,0.0046662401640994,0.0002446063780385879,0.009062167873190717,0.003898770444261607,9.713381145918243e-05,-0.002262724090947854,-0.0037213768819086336,-0.004688816544350505,0.0025817356155467207,0.004731721138055212,0.0007208283113702308,0.005507587809724951,0.0040661605787581726,0.0006556584756570727,0.00027168226568508036,-0.002369057391833224,0.0010494450019982449,0.0025434901195823534,-0.0012398341789145062,0.007460699993741593,0.001138161079604272,-0.0024642562988045624,0.0004927523154333758,0.0013574655478225228,-0.0033928965496704765,0.00013737267218995043,-0.0003205622696221655,-0.008357877147904046,0.0017577740224136106,0.00288085413177257,-2.164108656990127e-05,-0.0008208471515336435,0.004825880092249502,-0.0005545989634415993,0.0030746511250156205,-0.003551309296540156,-0.0022863525592565714,0.0021316737702185675,-0.005368321096204193,0.006597133042197995,0.00020942670356463577,-0.005641379239780177,-0.0017320780495580558,-0.007249386049271706,-0.01063130231431518,0.0035372695579033832,0.00047188928078761296,-0.0014644353555368084,-0.004001275178416525,0.003951305070577516,-0.0038881509034388697,0.008523783243593546,0.0027261730322383606,0.002660166560643823,-0.0014135373948842567,0.0007113718646702266,-0.004127934149565922,-0.0016050410579502572,-0.0082020853219969,-0.00408913301477754,0.0043518658799446604,-0.002238917709253813,0.0021394051967171756,-0.005703669410404904,-0.01654306207247558,0.006428555612379766,-0.0030648821456859656,0.0069708205012980196,-0.0010657043678712562,0.006346353636600732,0.002033244790060723,0.005055088957064441,-0.0013220239684710645,0.0020971513408956253,0.00025549360259650154,-0.008723338780296769,0.004663065099693014,-0.006211642540238221,-0.00863954474435466,-6.612414722129145e-05,0.0075157266459747575,-0.004097551462498855,-0.0035841320316552182,0.0026462570283573073,0.003682498502883097,0.008227216990935305,0.0010813728633286945,0.001836712267418278,0.00466035704048467,-0.0034424248904866618,-0.0021987678011930467,-0.002682575610913235,-0.001717327095764239,0.0011454996343755602,0.004583817778120103,0.004901976941408914,0.0010471829078967515,0.004835683553997078,-0.005736317196771051,0.0012893215355223365,-0.0008137818955507303,-0.0004403721505832403,-0.0015501619785318165,-0.0030624096632283493,0.00015430522000305923,0.006286111880739071,0.0027388273012230874,0.004742383758526585,-0.0015143540988329708,0.00031783922603002834,-0.0016025749098412534,0.0022822901385151197,0.0030893453557530926,-0.00030926940373047216,0.001814830493117109,-0.0019813447281305406,0.0022786030928250087,-0.004668115760082197],\"type\":\"scatter\",\"xaxis\":\"x\",\"yaxis\":\"y\"}],                        {\"template\":{\"data\":{\"histogram2dcontour\":[{\"type\":\"histogram2dcontour\",\"colorbar\":{\"outlinewidth\":0,\"ticks\":\"\"},\"colorscale\":[[0.0,\"#0d0887\"],[0.1111111111111111,\"#46039f\"],[0.2222222222222222,\"#7201a8\"],[0.3333333333333333,\"#9c179e\"],[0.4444444444444444,\"#bd3786\"],[0.5555555555555556,\"#d8576b\"],[0.6666666666666666,\"#ed7953\"],[0.7777777777777778,\"#fb9f3a\"],[0.8888888888888888,\"#fdca26\"],[1.0,\"#f0f921\"]]}],\"choropleth\":[{\"type\":\"choropleth\",\"colorbar\":{\"outlinewidth\":0,\"ticks\":\"\"}}],\"histogram2d\":[{\"type\":\"histogram2d\",\"colorbar\":{\"outlinewidth\":0,\"ticks\":\"\"},\"colorscale\":[[0.0,\"#0d0887\"],[0.1111111111111111,\"#46039f\"],[0.2222222222222222,\"#7201a8\"],[0.3333333333333333,\"#9c179e\"],[0.4444444444444444,\"#bd3786\"],[0.5555555555555556,\"#d8576b\"],[0.6666666666666666,\"#ed7953\"],[0.7777777777777778,\"#fb9f3a\"],[0.8888888888888888,\"#fdca26\"],[1.0,\"#f0f921\"]]}],\"heatmap\":[{\"type\":\"heatmap\",\"colorbar\":{\"outlinewidth\":0,\"ticks\":\"\"},\"colorscale\":[[0.0,\"#0d0887\"],[0.1111111111111111,\"#46039f\"],[0.2222222222222222,\"#7201a8\"],[0.3333333333333333,\"#9c179e\"],[0.4444444444444444,\"#bd3786\"],[0.5555555555555556,\"#d8576b\"],[0.6666666666666666,\"#ed7953\"],[0.7777777777777778,\"#fb9f3a\"],[0.8888888888888888,\"#fdca26\"],[1.0,\"#f0f921\"]]}],\"heatmapgl\":[{\"type\":\"heatmapgl\",\"colorbar\":{\"outlinewidth\":0,\"ticks\":\"\"},\"colorscale\":[[0.0,\"#0d0887\"],[0.1111111111111111,\"#46039f\"],[0.2222222222222222,\"#7201a8\"],[0.3333333333333333,\"#9c179e\"],[0.4444444444444444,\"#bd3786\"],[0.5555555555555556,\"#d8576b\"],[0.6666666666666666,\"#ed7953\"],[0.7777777777777778,\"#fb9f3a\"],[0.8888888888888888,\"#fdca26\"],[1.0,\"#f0f921\"]]}],\"contourcarpet\":[{\"type\":\"contourcarpet\",\"colorbar\":{\"outlinewidth\":0,\"ticks\":\"\"}}],\"contour\":[{\"type\":\"contour\",\"colorbar\":{\"outlinewidth\":0,\"ticks\":\"\"},\"colorscale\":[[0.0,\"#0d0887\"],[0.1111111111111111,\"#46039f\"],[0.2222222222222222,\"#7201a8\"],[0.3333333333333333,\"#9c179e\"],[0.4444444444444444,\"#bd3786\"],[0.5555555555555556,\"#d8576b\"],[0.6666666666666666,\"#ed7953\"],[0.7777777777777778,\"#fb9f3a\"],[0.8888888888888888,\"#fdca26\"],[1.0,\"#f0f921\"]]}],\"surface\":[{\"type\":\"surface\",\"colorbar\":{\"outlinewidth\":0,\"ticks\":\"\"},\"colorscale\":[[0.0,\"#0d0887\"],[0.1111111111111111,\"#46039f\"],[0.2222222222222222,\"#7201a8\"],[0.3333333333333333,\"#9c179e\"],[0.4444444444444444,\"#bd3786\"],[0.5555555555555556,\"#d8576b\"],[0.6666666666666666,\"#ed7953\"],[0.7777777777777778,\"#fb9f3a\"],[0.8888888888888888,\"#fdca26\"],[1.0,\"#f0f921\"]]}],\"mesh3d\":[{\"type\":\"mesh3d\",\"colorbar\":{\"outlinewidth\":0,\"ticks\":\"\"}}],\"scatter\":[{\"fillpattern\":{\"fillmode\":\"overlay\",\"size\":10,\"solidity\":0.2},\"type\":\"scatter\"}],\"parcoords\":[{\"type\":\"parcoords\",\"line\":{\"colorbar\":{\"outlinewidth\":0,\"ticks\":\"\"}}}],\"scatterpolargl\":[{\"type\":\"scatterpolargl\",\"marker\":{\"colorbar\":{\"outlinewidth\":0,\"ticks\":\"\"}}}],\"bar\":[{\"error_x\":{\"color\":\"#2a3f5f\"},\"error_y\":{\"color\":\"#2a3f5f\"},\"marker\":{\"line\":{\"color\":\"#E5ECF6\",\"width\":0.5},\"pattern\":{\"fillmode\":\"overlay\",\"size\":10,\"solidity\":0.2}},\"type\":\"bar\"}],\"scattergeo\":[{\"type\":\"scattergeo\",\"marker\":{\"colorbar\":{\"outlinewidth\":0,\"ticks\":\"\"}}}],\"scatterpolar\":[{\"type\":\"scatterpolar\",\"marker\":{\"colorbar\":{\"outlinewidth\":0,\"ticks\":\"\"}}}],\"histogram\":[{\"marker\":{\"pattern\":{\"fillmode\":\"overlay\",\"size\":10,\"solidity\":0.2}},\"type\":\"histogram\"}],\"scattergl\":[{\"type\":\"scattergl\",\"marker\":{\"colorbar\":{\"outlinewidth\":0,\"ticks\":\"\"}}}],\"scatter3d\":[{\"type\":\"scatter3d\",\"line\":{\"colorbar\":{\"outlinewidth\":0,\"ticks\":\"\"}},\"marker\":{\"colorbar\":{\"outlinewidth\":0,\"ticks\":\"\"}}}],\"scattermapbox\":[{\"type\":\"scattermapbox\",\"marker\":{\"colorbar\":{\"outlinewidth\":0,\"ticks\":\"\"}}}],\"scatterternary\":[{\"type\":\"scatterternary\",\"marker\":{\"colorbar\":{\"outlinewidth\":0,\"ticks\":\"\"}}}],\"scattercarpet\":[{\"type\":\"scattercarpet\",\"marker\":{\"colorbar\":{\"outlinewidth\":0,\"ticks\":\"\"}}}],\"carpet\":[{\"aaxis\":{\"endlinecolor\":\"#2a3f5f\",\"gridcolor\":\"white\",\"linecolor\":\"white\",\"minorgridcolor\":\"white\",\"startlinecolor\":\"#2a3f5f\"},\"baxis\":{\"endlinecolor\":\"#2a3f5f\",\"gridcolor\":\"white\",\"linecolor\":\"white\",\"minorgridcolor\":\"white\",\"startlinecolor\":\"#2a3f5f\"},\"type\":\"carpet\"}],\"table\":[{\"cells\":{\"fill\":{\"color\":\"#EBF0F8\"},\"line\":{\"color\":\"white\"}},\"header\":{\"fill\":{\"color\":\"#C8D4E3\"},\"line\":{\"color\":\"white\"}},\"type\":\"table\"}],\"barpolar\":[{\"marker\":{\"line\":{\"color\":\"#E5ECF6\",\"width\":0.5},\"pattern\":{\"fillmode\":\"overlay\",\"size\":10,\"solidity\":0.2}},\"type\":\"barpolar\"}],\"pie\":[{\"automargin\":true,\"type\":\"pie\"}]},\"layout\":{\"autotypenumbers\":\"strict\",\"colorway\":[\"#636efa\",\"#EF553B\",\"#00cc96\",\"#ab63fa\",\"#FFA15A\",\"#19d3f3\",\"#FF6692\",\"#B6E880\",\"#FF97FF\",\"#FECB52\"],\"font\":{\"color\":\"#2a3f5f\"},\"hovermode\":\"closest\",\"hoverlabel\":{\"align\":\"left\"},\"paper_bgcolor\":\"white\",\"plot_bgcolor\":\"#E5ECF6\",\"polar\":{\"bgcolor\":\"#E5ECF6\",\"angularaxis\":{\"gridcolor\":\"white\",\"linecolor\":\"white\",\"ticks\":\"\"},\"radialaxis\":{\"gridcolor\":\"white\",\"linecolor\":\"white\",\"ticks\":\"\"}},\"ternary\":{\"bgcolor\":\"#E5ECF6\",\"aaxis\":{\"gridcolor\":\"white\",\"linecolor\":\"white\",\"ticks\":\"\"},\"baxis\":{\"gridcolor\":\"white\",\"linecolor\":\"white\",\"ticks\":\"\"},\"caxis\":{\"gridcolor\":\"white\",\"linecolor\":\"white\",\"ticks\":\"\"}},\"coloraxis\":{\"colorbar\":{\"outlinewidth\":0,\"ticks\":\"\"}},\"colorscale\":{\"sequential\":[[0.0,\"#0d0887\"],[0.1111111111111111,\"#46039f\"],[0.2222222222222222,\"#7201a8\"],[0.3333333333333333,\"#9c179e\"],[0.4444444444444444,\"#bd3786\"],[0.5555555555555556,\"#d8576b\"],[0.6666666666666666,\"#ed7953\"],[0.7777777777777778,\"#fb9f3a\"],[0.8888888888888888,\"#fdca26\"],[1.0,\"#f0f921\"]],\"sequentialminus\":[[0.0,\"#0d0887\"],[0.1111111111111111,\"#46039f\"],[0.2222222222222222,\"#7201a8\"],[0.3333333333333333,\"#9c179e\"],[0.4444444444444444,\"#bd3786\"],[0.5555555555555556,\"#d8576b\"],[0.6666666666666666,\"#ed7953\"],[0.7777777777777778,\"#fb9f3a\"],[0.8888888888888888,\"#fdca26\"],[1.0,\"#f0f921\"]],\"diverging\":[[0,\"#8e0152\"],[0.1,\"#c51b7d\"],[0.2,\"#de77ae\"],[0.3,\"#f1b6da\"],[0.4,\"#fde0ef\"],[0.5,\"#f7f7f7\"],[0.6,\"#e6f5d0\"],[0.7,\"#b8e186\"],[0.8,\"#7fbc41\"],[0.9,\"#4d9221\"],[1,\"#276419\"]]},\"xaxis\":{\"gridcolor\":\"white\",\"linecolor\":\"white\",\"ticks\":\"\",\"title\":{\"standoff\":15},\"zerolinecolor\":\"white\",\"automargin\":true,\"zerolinewidth\":2},\"yaxis\":{\"gridcolor\":\"white\",\"linecolor\":\"white\",\"ticks\":\"\",\"title\":{\"standoff\":15},\"zerolinecolor\":\"white\",\"automargin\":true,\"zerolinewidth\":2},\"scene\":{\"xaxis\":{\"backgroundcolor\":\"#E5ECF6\",\"gridcolor\":\"white\",\"linecolor\":\"white\",\"showbackground\":true,\"ticks\":\"\",\"zerolinecolor\":\"white\",\"gridwidth\":2},\"yaxis\":{\"backgroundcolor\":\"#E5ECF6\",\"gridcolor\":\"white\",\"linecolor\":\"white\",\"showbackground\":true,\"ticks\":\"\",\"zerolinecolor\":\"white\",\"gridwidth\":2},\"zaxis\":{\"backgroundcolor\":\"#E5ECF6\",\"gridcolor\":\"white\",\"linecolor\":\"white\",\"showbackground\":true,\"ticks\":\"\",\"zerolinecolor\":\"white\",\"gridwidth\":2}},\"shapedefaults\":{\"line\":{\"color\":\"#2a3f5f\"}},\"annotationdefaults\":{\"arrowcolor\":\"#2a3f5f\",\"arrowhead\":0,\"arrowwidth\":1},\"geo\":{\"bgcolor\":\"white\",\"landcolor\":\"#E5ECF6\",\"subunitcolor\":\"white\",\"showland\":true,\"showlakes\":true,\"lakecolor\":\"white\"},\"title\":{\"x\":0.05},\"mapbox\":{\"style\":\"light\"}}},\"xaxis\":{\"anchor\":\"y\",\"domain\":[0.0,0.94]},\"yaxis\":{\"anchor\":\"x\",\"domain\":[0.0,1.0],\"title\":{\"text\":\"Returns\"}},\"yaxis2\":{\"anchor\":\"x\",\"overlaying\":\"y\",\"side\":\"right\",\"title\":{\"text\":\"COVID\"}},\"title\":{\"text\":\"Comparison of adjusted portfolio and COVID term\"}},                        {\"responsive\": true}                    ).then(function(){\n",
       "                            \n",
       "var gd = document.getElementById('cf7a5b8c-802b-4b3e-adc1-90bb50ab3201');\n",
       "var x = new MutationObserver(function (mutations, observer) {{\n",
       "        var display = window.getComputedStyle(gd).display;\n",
       "        if (!display || display === 'none') {{\n",
       "            console.log([gd, 'removed!']);\n",
       "            Plotly.purge(gd);\n",
       "            observer.disconnect();\n",
       "        }}\n",
       "}});\n",
       "\n",
       "// Listen for the removal of the full notebook cells\n",
       "var notebookContainer = gd.closest('#notebook-container');\n",
       "if (notebookContainer) {{\n",
       "    x.observe(notebookContainer, {childList: true});\n",
       "}}\n",
       "\n",
       "// Listen for the clearing of the current output cell\n",
       "var outputEl = gd.closest('.output');\n",
       "if (outputEl) {{\n",
       "    x.observe(outputEl, {childList: true});\n",
       "}}\n",
       "\n",
       "                        })                };                });            </script>        </div>"
      ]
     },
     "metadata": {},
     "output_type": "display_data"
    }
   ],
   "source": [
    "correlation_plot = make_subplots(rows=1, cols=1, shared_xaxes=True, specs=[[{'secondary_y': True}]])\n",
    "\n",
    "#Add bar plot plot for the covid term frequencies\n",
    "correlation_plot.add_trace(go.Bar(x=combined_data['index'], y=combined_data['COVID'], name='COVID'), secondary_y=True)\n",
    "\n",
    "correlation_plot.add_trace(go.Scatter(x=combined_data['index'], y=combined_data[0], mode='lines', name=0), secondary_y=False)\n",
    "\n",
    "correlation_plot.update_layout(title='Comparison of adjusted portfolio and COVID term')\n",
    "\n",
    "correlation_plot.update_yaxes(title_text='COVID', secondary_y=True)\n",
    "correlation_plot.update_yaxes(title_text='Returns', secondary_y=False)\n",
    "\n",
    "correlation_plot.show()"
   ]
  },
  {
   "cell_type": "code",
   "execution_count": null,
   "id": "a75181ac-70f7-447e-9cfb-54dc9116786e",
   "metadata": {},
   "outputs": [],
   "source": []
  }
 ],
 "metadata": {
  "kernelspec": {
   "display_name": "Python 3 (ipykernel)",
   "language": "python",
   "name": "python3"
  },
  "language_info": {
   "codemirror_mode": {
    "name": "ipython",
    "version": 3
   },
   "file_extension": ".py",
   "mimetype": "text/x-python",
   "name": "python",
   "nbconvert_exporter": "python",
   "pygments_lexer": "ipython3",
   "version": "3.9.17"
  }
 },
 "nbformat": 4,
 "nbformat_minor": 5
}
